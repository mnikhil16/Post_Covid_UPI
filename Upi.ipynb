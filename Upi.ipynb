{
  "nbformat": 4,
  "nbformat_minor": 0,
  "metadata": {
    "colab": {
      "provenance": []
    },
    "kernelspec": {
      "name": "python3",
      "display_name": "Python 3"
    },
    "language_info": {
      "name": "python"
    },
    "accelerator": "GPU"
  },
  "cells": [
    {
      "cell_type": "code",
      "execution_count": 1,
      "metadata": {
        "id": "UhSeglUglvTv"
      },
      "outputs": [],
      "source": [
        "import pandas as pd\n",
        "import matplotlib.pyplot as plt\n",
        "import datetime\n",
        "import calendar\n",
        "import tensorflow as tf\n",
        "import numpy as np\n",
        "from tensorflow.keras.models import Sequential\n",
        "from tensorflow.keras.layers import Dropout,Dense,GRU\n",
        "from sklearn.model_selection import train_test_split\n",
        "from keras import Input "
      ]
    },
    {
      "cell_type": "code",
      "source": [
        "from google.colab import drive\n",
        "drive.mount('/content/drive')"
      ],
      "metadata": {
        "colab": {
          "base_uri": "https://localhost:8080/"
        },
        "id": "BSsJw3tu3oV1",
        "outputId": "539bfe37-8794-4a7e-c4b7-b5eec8bb264e"
      },
      "execution_count": 2,
      "outputs": [
        {
          "output_type": "stream",
          "name": "stdout",
          "text": [
            "Mounted at /content/drive\n"
          ]
        }
      ]
    },
    {
      "cell_type": "code",
      "source": [
        "df1=pd.read_excel(\"/content/drive/MyDrive/2017_2022.xlsx\")\n",
        "df2021=pd.read_csv(\"/content/drive/MyDrive/2021.csv\")\n",
        "df2022=pd.read_csv(\"/content/drive/MyDrive/2022.csv\")"
      ],
      "metadata": {
        "id": "12G-i2lhnsBT"
      },
      "execution_count": 3,
      "outputs": []
    },
    {
      "cell_type": "code",
      "source": [
        "df2021"
      ],
      "metadata": {
        "id": "BH4iCxM64YUp",
        "colab": {
          "base_uri": "https://localhost:8080/",
          "height": 423
        },
        "outputId": "8a8d7860-cb10-4730-ebd8-a088b428e0e0"
      },
      "execution_count": 4,
      "outputs": [
        {
          "output_type": "execute_result",
          "data": {
            "text/plain": [
              "                     UPI Banks  Volume (Mn) By Costumers  \\\n",
              "0    Airtel Payments Bank Apps                      9.04   \n",
              "1    Airtel Payments Bank Apps                      8.41   \n",
              "2    Airtel Payments Bank Apps                      7.60   \n",
              "3    Airtel Payments Bank Apps                      6.91   \n",
              "4    Airtel Payments Bank Apps                      6.14   \n",
              "..                         ...                       ...   \n",
              "649                    YuvaPay                      1.33   \n",
              "650                    YuvaPay                      2.32   \n",
              "651                    YuvaPay                      1.59   \n",
              "652                    YuvaPay                      0.56   \n",
              "653                    YuvaPay                      0.02   \n",
              "\n",
              "     Value (Cr) by Costumers  Volume (Mn)  Value (Cr)  Month  Year  \n",
              "0                    2248.49        15.12     5732.09     12  2021  \n",
              "1                    1923.95        15.90     5554.63     11  2021  \n",
              "2                    1491.34        14.31     4746.79     10  2021  \n",
              "3                    1520.92        11.52     3759.12      9  2021  \n",
              "4                    1396.65         9.31     2941.88      8  2021  \n",
              "..                       ...          ...         ...    ...   ...  \n",
              "649                    60.44         1.33       60.44      6  2021  \n",
              "650                    73.16         2.32       73.16      5  2021  \n",
              "651                    51.22         1.59       51.22      4  2021  \n",
              "652                    18.56         0.56       18.56      3  2021  \n",
              "653                     0.63         0.02        0.63      2  2021  \n",
              "\n",
              "[654 rows x 7 columns]"
            ],
            "text/html": [
              "\n",
              "  <div id=\"df-e5640d51-342d-4475-9c5f-c4fbcf7d9751\">\n",
              "    <div class=\"colab-df-container\">\n",
              "      <div>\n",
              "<style scoped>\n",
              "    .dataframe tbody tr th:only-of-type {\n",
              "        vertical-align: middle;\n",
              "    }\n",
              "\n",
              "    .dataframe tbody tr th {\n",
              "        vertical-align: top;\n",
              "    }\n",
              "\n",
              "    .dataframe thead th {\n",
              "        text-align: right;\n",
              "    }\n",
              "</style>\n",
              "<table border=\"1\" class=\"dataframe\">\n",
              "  <thead>\n",
              "    <tr style=\"text-align: right;\">\n",
              "      <th></th>\n",
              "      <th>UPI Banks</th>\n",
              "      <th>Volume (Mn) By Costumers</th>\n",
              "      <th>Value (Cr) by Costumers</th>\n",
              "      <th>Volume (Mn)</th>\n",
              "      <th>Value (Cr)</th>\n",
              "      <th>Month</th>\n",
              "      <th>Year</th>\n",
              "    </tr>\n",
              "  </thead>\n",
              "  <tbody>\n",
              "    <tr>\n",
              "      <th>0</th>\n",
              "      <td>Airtel Payments Bank Apps</td>\n",
              "      <td>9.04</td>\n",
              "      <td>2248.49</td>\n",
              "      <td>15.12</td>\n",
              "      <td>5732.09</td>\n",
              "      <td>12</td>\n",
              "      <td>2021</td>\n",
              "    </tr>\n",
              "    <tr>\n",
              "      <th>1</th>\n",
              "      <td>Airtel Payments Bank Apps</td>\n",
              "      <td>8.41</td>\n",
              "      <td>1923.95</td>\n",
              "      <td>15.90</td>\n",
              "      <td>5554.63</td>\n",
              "      <td>11</td>\n",
              "      <td>2021</td>\n",
              "    </tr>\n",
              "    <tr>\n",
              "      <th>2</th>\n",
              "      <td>Airtel Payments Bank Apps</td>\n",
              "      <td>7.60</td>\n",
              "      <td>1491.34</td>\n",
              "      <td>14.31</td>\n",
              "      <td>4746.79</td>\n",
              "      <td>10</td>\n",
              "      <td>2021</td>\n",
              "    </tr>\n",
              "    <tr>\n",
              "      <th>3</th>\n",
              "      <td>Airtel Payments Bank Apps</td>\n",
              "      <td>6.91</td>\n",
              "      <td>1520.92</td>\n",
              "      <td>11.52</td>\n",
              "      <td>3759.12</td>\n",
              "      <td>9</td>\n",
              "      <td>2021</td>\n",
              "    </tr>\n",
              "    <tr>\n",
              "      <th>4</th>\n",
              "      <td>Airtel Payments Bank Apps</td>\n",
              "      <td>6.14</td>\n",
              "      <td>1396.65</td>\n",
              "      <td>9.31</td>\n",
              "      <td>2941.88</td>\n",
              "      <td>8</td>\n",
              "      <td>2021</td>\n",
              "    </tr>\n",
              "    <tr>\n",
              "      <th>...</th>\n",
              "      <td>...</td>\n",
              "      <td>...</td>\n",
              "      <td>...</td>\n",
              "      <td>...</td>\n",
              "      <td>...</td>\n",
              "      <td>...</td>\n",
              "      <td>...</td>\n",
              "    </tr>\n",
              "    <tr>\n",
              "      <th>649</th>\n",
              "      <td>YuvaPay</td>\n",
              "      <td>1.33</td>\n",
              "      <td>60.44</td>\n",
              "      <td>1.33</td>\n",
              "      <td>60.44</td>\n",
              "      <td>6</td>\n",
              "      <td>2021</td>\n",
              "    </tr>\n",
              "    <tr>\n",
              "      <th>650</th>\n",
              "      <td>YuvaPay</td>\n",
              "      <td>2.32</td>\n",
              "      <td>73.16</td>\n",
              "      <td>2.32</td>\n",
              "      <td>73.16</td>\n",
              "      <td>5</td>\n",
              "      <td>2021</td>\n",
              "    </tr>\n",
              "    <tr>\n",
              "      <th>651</th>\n",
              "      <td>YuvaPay</td>\n",
              "      <td>1.59</td>\n",
              "      <td>51.22</td>\n",
              "      <td>1.59</td>\n",
              "      <td>51.22</td>\n",
              "      <td>4</td>\n",
              "      <td>2021</td>\n",
              "    </tr>\n",
              "    <tr>\n",
              "      <th>652</th>\n",
              "      <td>YuvaPay</td>\n",
              "      <td>0.56</td>\n",
              "      <td>18.56</td>\n",
              "      <td>0.56</td>\n",
              "      <td>18.56</td>\n",
              "      <td>3</td>\n",
              "      <td>2021</td>\n",
              "    </tr>\n",
              "    <tr>\n",
              "      <th>653</th>\n",
              "      <td>YuvaPay</td>\n",
              "      <td>0.02</td>\n",
              "      <td>0.63</td>\n",
              "      <td>0.02</td>\n",
              "      <td>0.63</td>\n",
              "      <td>2</td>\n",
              "      <td>2021</td>\n",
              "    </tr>\n",
              "  </tbody>\n",
              "</table>\n",
              "<p>654 rows × 7 columns</p>\n",
              "</div>\n",
              "      <button class=\"colab-df-convert\" onclick=\"convertToInteractive('df-e5640d51-342d-4475-9c5f-c4fbcf7d9751')\"\n",
              "              title=\"Convert this dataframe to an interactive table.\"\n",
              "              style=\"display:none;\">\n",
              "        \n",
              "  <svg xmlns=\"http://www.w3.org/2000/svg\" height=\"24px\"viewBox=\"0 0 24 24\"\n",
              "       width=\"24px\">\n",
              "    <path d=\"M0 0h24v24H0V0z\" fill=\"none\"/>\n",
              "    <path d=\"M18.56 5.44l.94 2.06.94-2.06 2.06-.94-2.06-.94-.94-2.06-.94 2.06-2.06.94zm-11 1L8.5 8.5l.94-2.06 2.06-.94-2.06-.94L8.5 2.5l-.94 2.06-2.06.94zm10 10l.94 2.06.94-2.06 2.06-.94-2.06-.94-.94-2.06-.94 2.06-2.06.94z\"/><path d=\"M17.41 7.96l-1.37-1.37c-.4-.4-.92-.59-1.43-.59-.52 0-1.04.2-1.43.59L10.3 9.45l-7.72 7.72c-.78.78-.78 2.05 0 2.83L4 21.41c.39.39.9.59 1.41.59.51 0 1.02-.2 1.41-.59l7.78-7.78 2.81-2.81c.8-.78.8-2.07 0-2.86zM5.41 20L4 18.59l7.72-7.72 1.47 1.35L5.41 20z\"/>\n",
              "  </svg>\n",
              "      </button>\n",
              "      \n",
              "  <style>\n",
              "    .colab-df-container {\n",
              "      display:flex;\n",
              "      flex-wrap:wrap;\n",
              "      gap: 12px;\n",
              "    }\n",
              "\n",
              "    .colab-df-convert {\n",
              "      background-color: #E8F0FE;\n",
              "      border: none;\n",
              "      border-radius: 50%;\n",
              "      cursor: pointer;\n",
              "      display: none;\n",
              "      fill: #1967D2;\n",
              "      height: 32px;\n",
              "      padding: 0 0 0 0;\n",
              "      width: 32px;\n",
              "    }\n",
              "\n",
              "    .colab-df-convert:hover {\n",
              "      background-color: #E2EBFA;\n",
              "      box-shadow: 0px 1px 2px rgba(60, 64, 67, 0.3), 0px 1px 3px 1px rgba(60, 64, 67, 0.15);\n",
              "      fill: #174EA6;\n",
              "    }\n",
              "\n",
              "    [theme=dark] .colab-df-convert {\n",
              "      background-color: #3B4455;\n",
              "      fill: #D2E3FC;\n",
              "    }\n",
              "\n",
              "    [theme=dark] .colab-df-convert:hover {\n",
              "      background-color: #434B5C;\n",
              "      box-shadow: 0px 1px 3px 1px rgba(0, 0, 0, 0.15);\n",
              "      filter: drop-shadow(0px 1px 2px rgba(0, 0, 0, 0.3));\n",
              "      fill: #FFFFFF;\n",
              "    }\n",
              "  </style>\n",
              "\n",
              "      <script>\n",
              "        const buttonEl =\n",
              "          document.querySelector('#df-e5640d51-342d-4475-9c5f-c4fbcf7d9751 button.colab-df-convert');\n",
              "        buttonEl.style.display =\n",
              "          google.colab.kernel.accessAllowed ? 'block' : 'none';\n",
              "\n",
              "        async function convertToInteractive(key) {\n",
              "          const element = document.querySelector('#df-e5640d51-342d-4475-9c5f-c4fbcf7d9751');\n",
              "          const dataTable =\n",
              "            await google.colab.kernel.invokeFunction('convertToInteractive',\n",
              "                                                     [key], {});\n",
              "          if (!dataTable) return;\n",
              "\n",
              "          const docLinkHtml = 'Like what you see? Visit the ' +\n",
              "            '<a target=\"_blank\" href=https://colab.research.google.com/notebooks/data_table.ipynb>data table notebook</a>'\n",
              "            + ' to learn more about interactive tables.';\n",
              "          element.innerHTML = '';\n",
              "          dataTable['output_type'] = 'display_data';\n",
              "          await google.colab.output.renderOutput(dataTable, element);\n",
              "          const docLink = document.createElement('div');\n",
              "          docLink.innerHTML = docLinkHtml;\n",
              "          element.appendChild(docLink);\n",
              "        }\n",
              "      </script>\n",
              "    </div>\n",
              "  </div>\n",
              "  "
            ]
          },
          "metadata": {},
          "execution_count": 4
        }
      ]
    },
    {
      "cell_type": "code",
      "source": [],
      "metadata": {
        "id": "0UxpprDc4YnZ"
      },
      "execution_count": 4,
      "outputs": []
    },
    {
      "cell_type": "code",
      "source": [
        "df1=df1.iloc[::-1]"
      ],
      "metadata": {
        "id": "fCO3qPMHpaFw"
      },
      "execution_count": 5,
      "outputs": []
    },
    {
      "cell_type": "code",
      "source": [
        "df1"
      ],
      "metadata": {
        "id": "LF55JgeQn6S6",
        "colab": {
          "base_uri": "https://localhost:8080/",
          "height": 423
        },
        "outputId": "48c40aef-ba86-4747-8788-2a2585342cb5"
      },
      "execution_count": 6,
      "outputs": [
        {
          "output_type": "execute_result",
          "data": {
            "text/plain": [
              "        Month  No. of Banks live on UPI  Volume (in Mn) Value (in Cr.)\n",
              "77 2016-04-01                      21.0            0.00            0.0\n",
              "76 2016-05-01                      21.0            0.00            0.0\n",
              "75 2016-06-01                      21.0            0.00            0.0\n",
              "74 2016-07-01                      21.0            0.09           0.38\n",
              "73 2016-08-01                      21.0            0.09           3.09\n",
              "..        ...                       ...             ...            ...\n",
              "4  2022-05-01                     323.0         5955.20      10,41,506\n",
              "3  2022-06-01                     330.0         5862.75      10,14,384\n",
              "2  2022-07-01                     338.0         6288.40      10,62,747\n",
              "1  2022-08-01                     346.0         6579.63   10,72,792.68\n",
              "0  2022-09-01                     358.0         6780.80   11,16,438.10\n",
              "\n",
              "[78 rows x 4 columns]"
            ],
            "text/html": [
              "\n",
              "  <div id=\"df-e9867cf9-f278-4efa-b0dc-fd8ee41affc6\">\n",
              "    <div class=\"colab-df-container\">\n",
              "      <div>\n",
              "<style scoped>\n",
              "    .dataframe tbody tr th:only-of-type {\n",
              "        vertical-align: middle;\n",
              "    }\n",
              "\n",
              "    .dataframe tbody tr th {\n",
              "        vertical-align: top;\n",
              "    }\n",
              "\n",
              "    .dataframe thead th {\n",
              "        text-align: right;\n",
              "    }\n",
              "</style>\n",
              "<table border=\"1\" class=\"dataframe\">\n",
              "  <thead>\n",
              "    <tr style=\"text-align: right;\">\n",
              "      <th></th>\n",
              "      <th>Month</th>\n",
              "      <th>No. of Banks live on UPI</th>\n",
              "      <th>Volume (in Mn)</th>\n",
              "      <th>Value (in Cr.)</th>\n",
              "    </tr>\n",
              "  </thead>\n",
              "  <tbody>\n",
              "    <tr>\n",
              "      <th>77</th>\n",
              "      <td>2016-04-01</td>\n",
              "      <td>21.0</td>\n",
              "      <td>0.00</td>\n",
              "      <td>0.0</td>\n",
              "    </tr>\n",
              "    <tr>\n",
              "      <th>76</th>\n",
              "      <td>2016-05-01</td>\n",
              "      <td>21.0</td>\n",
              "      <td>0.00</td>\n",
              "      <td>0.0</td>\n",
              "    </tr>\n",
              "    <tr>\n",
              "      <th>75</th>\n",
              "      <td>2016-06-01</td>\n",
              "      <td>21.0</td>\n",
              "      <td>0.00</td>\n",
              "      <td>0.0</td>\n",
              "    </tr>\n",
              "    <tr>\n",
              "      <th>74</th>\n",
              "      <td>2016-07-01</td>\n",
              "      <td>21.0</td>\n",
              "      <td>0.09</td>\n",
              "      <td>0.38</td>\n",
              "    </tr>\n",
              "    <tr>\n",
              "      <th>73</th>\n",
              "      <td>2016-08-01</td>\n",
              "      <td>21.0</td>\n",
              "      <td>0.09</td>\n",
              "      <td>3.09</td>\n",
              "    </tr>\n",
              "    <tr>\n",
              "      <th>...</th>\n",
              "      <td>...</td>\n",
              "      <td>...</td>\n",
              "      <td>...</td>\n",
              "      <td>...</td>\n",
              "    </tr>\n",
              "    <tr>\n",
              "      <th>4</th>\n",
              "      <td>2022-05-01</td>\n",
              "      <td>323.0</td>\n",
              "      <td>5955.20</td>\n",
              "      <td>10,41,506</td>\n",
              "    </tr>\n",
              "    <tr>\n",
              "      <th>3</th>\n",
              "      <td>2022-06-01</td>\n",
              "      <td>330.0</td>\n",
              "      <td>5862.75</td>\n",
              "      <td>10,14,384</td>\n",
              "    </tr>\n",
              "    <tr>\n",
              "      <th>2</th>\n",
              "      <td>2022-07-01</td>\n",
              "      <td>338.0</td>\n",
              "      <td>6288.40</td>\n",
              "      <td>10,62,747</td>\n",
              "    </tr>\n",
              "    <tr>\n",
              "      <th>1</th>\n",
              "      <td>2022-08-01</td>\n",
              "      <td>346.0</td>\n",
              "      <td>6579.63</td>\n",
              "      <td>10,72,792.68</td>\n",
              "    </tr>\n",
              "    <tr>\n",
              "      <th>0</th>\n",
              "      <td>2022-09-01</td>\n",
              "      <td>358.0</td>\n",
              "      <td>6780.80</td>\n",
              "      <td>11,16,438.10</td>\n",
              "    </tr>\n",
              "  </tbody>\n",
              "</table>\n",
              "<p>78 rows × 4 columns</p>\n",
              "</div>\n",
              "      <button class=\"colab-df-convert\" onclick=\"convertToInteractive('df-e9867cf9-f278-4efa-b0dc-fd8ee41affc6')\"\n",
              "              title=\"Convert this dataframe to an interactive table.\"\n",
              "              style=\"display:none;\">\n",
              "        \n",
              "  <svg xmlns=\"http://www.w3.org/2000/svg\" height=\"24px\"viewBox=\"0 0 24 24\"\n",
              "       width=\"24px\">\n",
              "    <path d=\"M0 0h24v24H0V0z\" fill=\"none\"/>\n",
              "    <path d=\"M18.56 5.44l.94 2.06.94-2.06 2.06-.94-2.06-.94-.94-2.06-.94 2.06-2.06.94zm-11 1L8.5 8.5l.94-2.06 2.06-.94-2.06-.94L8.5 2.5l-.94 2.06-2.06.94zm10 10l.94 2.06.94-2.06 2.06-.94-2.06-.94-.94-2.06-.94 2.06-2.06.94z\"/><path d=\"M17.41 7.96l-1.37-1.37c-.4-.4-.92-.59-1.43-.59-.52 0-1.04.2-1.43.59L10.3 9.45l-7.72 7.72c-.78.78-.78 2.05 0 2.83L4 21.41c.39.39.9.59 1.41.59.51 0 1.02-.2 1.41-.59l7.78-7.78 2.81-2.81c.8-.78.8-2.07 0-2.86zM5.41 20L4 18.59l7.72-7.72 1.47 1.35L5.41 20z\"/>\n",
              "  </svg>\n",
              "      </button>\n",
              "      \n",
              "  <style>\n",
              "    .colab-df-container {\n",
              "      display:flex;\n",
              "      flex-wrap:wrap;\n",
              "      gap: 12px;\n",
              "    }\n",
              "\n",
              "    .colab-df-convert {\n",
              "      background-color: #E8F0FE;\n",
              "      border: none;\n",
              "      border-radius: 50%;\n",
              "      cursor: pointer;\n",
              "      display: none;\n",
              "      fill: #1967D2;\n",
              "      height: 32px;\n",
              "      padding: 0 0 0 0;\n",
              "      width: 32px;\n",
              "    }\n",
              "\n",
              "    .colab-df-convert:hover {\n",
              "      background-color: #E2EBFA;\n",
              "      box-shadow: 0px 1px 2px rgba(60, 64, 67, 0.3), 0px 1px 3px 1px rgba(60, 64, 67, 0.15);\n",
              "      fill: #174EA6;\n",
              "    }\n",
              "\n",
              "    [theme=dark] .colab-df-convert {\n",
              "      background-color: #3B4455;\n",
              "      fill: #D2E3FC;\n",
              "    }\n",
              "\n",
              "    [theme=dark] .colab-df-convert:hover {\n",
              "      background-color: #434B5C;\n",
              "      box-shadow: 0px 1px 3px 1px rgba(0, 0, 0, 0.15);\n",
              "      filter: drop-shadow(0px 1px 2px rgba(0, 0, 0, 0.3));\n",
              "      fill: #FFFFFF;\n",
              "    }\n",
              "  </style>\n",
              "\n",
              "      <script>\n",
              "        const buttonEl =\n",
              "          document.querySelector('#df-e9867cf9-f278-4efa-b0dc-fd8ee41affc6 button.colab-df-convert');\n",
              "        buttonEl.style.display =\n",
              "          google.colab.kernel.accessAllowed ? 'block' : 'none';\n",
              "\n",
              "        async function convertToInteractive(key) {\n",
              "          const element = document.querySelector('#df-e9867cf9-f278-4efa-b0dc-fd8ee41affc6');\n",
              "          const dataTable =\n",
              "            await google.colab.kernel.invokeFunction('convertToInteractive',\n",
              "                                                     [key], {});\n",
              "          if (!dataTable) return;\n",
              "\n",
              "          const docLinkHtml = 'Like what you see? Visit the ' +\n",
              "            '<a target=\"_blank\" href=https://colab.research.google.com/notebooks/data_table.ipynb>data table notebook</a>'\n",
              "            + ' to learn more about interactive tables.';\n",
              "          element.innerHTML = '';\n",
              "          dataTable['output_type'] = 'display_data';\n",
              "          await google.colab.output.renderOutput(dataTable, element);\n",
              "          const docLink = document.createElement('div');\n",
              "          docLink.innerHTML = docLinkHtml;\n",
              "          element.appendChild(docLink);\n",
              "        }\n",
              "      </script>\n",
              "    </div>\n",
              "  </div>\n",
              "  "
            ]
          },
          "metadata": {},
          "execution_count": 6
        }
      ]
    },
    {
      "cell_type": "code",
      "source": [
        "df1[\"year\"]=pd.DatetimeIndex(df1[\"Month\"]).year\n",
        "df1[\"Month\"]=pd.DatetimeIndex(df1[\"Month\"]).month"
      ],
      "metadata": {
        "id": "10AjiUEhoH9N",
        "colab": {
          "base_uri": "https://localhost:8080/"
        },
        "outputId": "21c6fdeb-d5c3-4a01-f662-f5f666d497d0"
      },
      "execution_count": 7,
      "outputs": [
        {
          "output_type": "stream",
          "name": "stderr",
          "text": [
            "<ipython-input-7-00115341e0b9>:1: SettingWithCopyWarning: \n",
            "A value is trying to be set on a copy of a slice from a DataFrame.\n",
            "Try using .loc[row_indexer,col_indexer] = value instead\n",
            "\n",
            "See the caveats in the documentation: https://pandas.pydata.org/pandas-docs/stable/user_guide/indexing.html#returning-a-view-versus-a-copy\n",
            "  df1[\"year\"]=pd.DatetimeIndex(df1[\"Month\"]).year\n",
            "<ipython-input-7-00115341e0b9>:2: SettingWithCopyWarning: \n",
            "A value is trying to be set on a copy of a slice from a DataFrame.\n",
            "Try using .loc[row_indexer,col_indexer] = value instead\n",
            "\n",
            "See the caveats in the documentation: https://pandas.pydata.org/pandas-docs/stable/user_guide/indexing.html#returning-a-view-versus-a-copy\n",
            "  df1[\"Month\"]=pd.DatetimeIndex(df1[\"Month\"]).month\n"
          ]
        }
      ]
    },
    {
      "cell_type": "code",
      "source": [
        "df1[\"Month\"]"
      ],
      "metadata": {
        "id": "g1PZv6HkpA1p",
        "colab": {
          "base_uri": "https://localhost:8080/"
        },
        "outputId": "8e4ecd61-d272-45ec-8110-b023f4dfedd0"
      },
      "execution_count": 8,
      "outputs": [
        {
          "output_type": "execute_result",
          "data": {
            "text/plain": [
              "77    4\n",
              "76    5\n",
              "75    6\n",
              "74    7\n",
              "73    8\n",
              "     ..\n",
              "4     5\n",
              "3     6\n",
              "2     7\n",
              "1     8\n",
              "0     9\n",
              "Name: Month, Length: 78, dtype: int64"
            ]
          },
          "metadata": {},
          "execution_count": 8
        }
      ]
    },
    {
      "cell_type": "code",
      "source": [
        "x=dict((index,month) for index, month in enumerate(calendar.month_abbr) if month)\n",
        "x"
      ],
      "metadata": {
        "id": "_uc4ktVVsdwz",
        "colab": {
          "base_uri": "https://localhost:8080/"
        },
        "outputId": "71977f83-f56c-41fd-a0fd-b3add71b0526"
      },
      "execution_count": 9,
      "outputs": [
        {
          "output_type": "execute_result",
          "data": {
            "text/plain": [
              "{1: 'Jan',\n",
              " 2: 'Feb',\n",
              " 3: 'Mar',\n",
              " 4: 'Apr',\n",
              " 5: 'May',\n",
              " 6: 'Jun',\n",
              " 7: 'Jul',\n",
              " 8: 'Aug',\n",
              " 9: 'Sep',\n",
              " 10: 'Oct',\n",
              " 11: 'Nov',\n",
              " 12: 'Dec'}"
            ]
          },
          "metadata": {},
          "execution_count": 9
        }
      ]
    },
    {
      "cell_type": "code",
      "source": [
        "k=0\n",
        "for i in range(len(df1[\"Month\"])):\n",
        "  df1[\"Month\"][i]=x[df1[\"Month\"][i]]\n",
        "  k+=1"
      ],
      "metadata": {
        "id": "LLLndoSqtLNo",
        "colab": {
          "base_uri": "https://localhost:8080/"
        },
        "outputId": "9990b789-bfc7-4fdc-9952-a6364f71b796"
      },
      "execution_count": 10,
      "outputs": [
        {
          "output_type": "stream",
          "name": "stderr",
          "text": [
            "<ipython-input-10-2060c7d7b92d>:3: SettingWithCopyWarning: \n",
            "A value is trying to be set on a copy of a slice from a DataFrame\n",
            "\n",
            "See the caveats in the documentation: https://pandas.pydata.org/pandas-docs/stable/user_guide/indexing.html#returning-a-view-versus-a-copy\n",
            "  df1[\"Month\"][i]=x[df1[\"Month\"][i]]\n",
            "/usr/local/lib/python3.8/dist-packages/pandas/core/indexing.py:1732: SettingWithCopyWarning: \n",
            "A value is trying to be set on a copy of a slice from a DataFrame\n",
            "\n",
            "See the caveats in the documentation: https://pandas.pydata.org/pandas-docs/stable/user_guide/indexing.html#returning-a-view-versus-a-copy\n",
            "  self._setitem_single_block(indexer, value, name)\n",
            "/usr/local/lib/python3.8/dist-packages/pandas/core/series.py:1056: SettingWithCopyWarning: \n",
            "A value is trying to be set on a copy of a slice from a DataFrame\n",
            "\n",
            "See the caveats in the documentation: https://pandas.pydata.org/pandas-docs/stable/user_guide/indexing.html#returning-a-view-versus-a-copy\n",
            "  cacher_needs_updating = self._check_is_chained_assignment_possible()\n"
          ]
        }
      ]
    },
    {
      "cell_type": "code",
      "source": [
        "for i in range(len(df1[\"Month\"])):\n",
        "  df1[\"Month\"][i]=df1[\"Month\"][i]+str(df1[\"year\"][i])"
      ],
      "metadata": {
        "id": "Ur-cJxiM2_HB"
      },
      "execution_count": 11,
      "outputs": []
    },
    {
      "cell_type": "code",
      "source": [
        "df1[\"Month\"]"
      ],
      "metadata": {
        "id": "BpRhoW9n3lS3",
        "colab": {
          "base_uri": "https://localhost:8080/"
        },
        "outputId": "7b6cd45b-4b68-495a-c879-f0979eab178b"
      },
      "execution_count": 12,
      "outputs": [
        {
          "output_type": "execute_result",
          "data": {
            "text/plain": [
              "77    Apr2016\n",
              "76    May2016\n",
              "75    Jun2016\n",
              "74    Jul2016\n",
              "73    Aug2016\n",
              "       ...   \n",
              "4     May2022\n",
              "3     Jun2022\n",
              "2     Jul2022\n",
              "1     Aug2022\n",
              "0     Sep2022\n",
              "Name: Month, Length: 78, dtype: object"
            ]
          },
          "metadata": {},
          "execution_count": 12
        }
      ]
    },
    {
      "cell_type": "code",
      "source": [
        "df1['Value (in Cr.)'] = df1['Value (in Cr.)'].str.replace(',', '').astype(float)\n"
      ],
      "metadata": {
        "id": "NjiOh5mnwb89",
        "colab": {
          "base_uri": "https://localhost:8080/"
        },
        "outputId": "3d753a76-26c1-4bbc-ebe0-5f61ae7f1af9"
      },
      "execution_count": 13,
      "outputs": [
        {
          "output_type": "stream",
          "name": "stderr",
          "text": [
            "<ipython-input-13-feb86839f1b8>:1: SettingWithCopyWarning: \n",
            "A value is trying to be set on a copy of a slice from a DataFrame.\n",
            "Try using .loc[row_indexer,col_indexer] = value instead\n",
            "\n",
            "See the caveats in the documentation: https://pandas.pydata.org/pandas-docs/stable/user_guide/indexing.html#returning-a-view-versus-a-copy\n",
            "  df1['Value (in Cr.)'] = df1['Value (in Cr.)'].str.replace(',', '').astype(float)\n"
          ]
        }
      ]
    },
    {
      "cell_type": "code",
      "source": [
        "# df1[\"Value (in Cr.)\"][i]=int(df1[\"Value (in Cr.)\"])"
      ],
      "metadata": {
        "id": "5RSzTJ7VxLkn"
      },
      "execution_count": 14,
      "outputs": []
    },
    {
      "cell_type": "code",
      "source": [
        "plt.bar(df1[\"Month\"], (df1[\"Value (in Cr.)\"]), color ='maroon',width = 0.4)"
      ],
      "metadata": {
        "id": "jUteDam3uufF",
        "colab": {
          "base_uri": "https://localhost:8080/",
          "height": 293
        },
        "outputId": "e4a04af6-5311-48ad-9d9f-e7f3a953672f"
      },
      "execution_count": 15,
      "outputs": [
        {
          "output_type": "execute_result",
          "data": {
            "text/plain": [
              "<BarContainer object of 78 artists>"
            ]
          },
          "metadata": {},
          "execution_count": 15
        },
        {
          "output_type": "display_data",
          "data": {
            "text/plain": [
              "<Figure size 432x288 with 1 Axes>"
            ],
            "image/png": "[encoded data removed]"
          },
          "metadata": {
            "needs_background": "light"
          }
        }
      ]
    },
    {
      "cell_type": "code",
      "source": [
        "x=df1.groupby([\"year\"],as_index=False).sum()\n"
      ],
      "metadata": {
        "id": "Zm1_kE0cv_sI"
      },
      "execution_count": 16,
      "outputs": []
    },
    {
      "cell_type": "code",
      "source": [
        "x"
      ],
      "metadata": {
        "id": "-7iW56m5W7tL",
        "colab": {
          "base_uri": "https://localhost:8080/",
          "height": 269
        },
        "outputId": "d4f125f7-488a-4649-feaa-ec751ae7a5f4"
      },
      "execution_count": 17,
      "outputs": [
        {
          "output_type": "execute_result",
          "data": {
            "text/plain": [
              "   year  No. of Banks live on UPI  Volume (in Mn)  Value (in Cr.)\n",
              "0  2016                     221.0            2.65            0.00\n",
              "1  2017                     626.0          429.15            0.00\n",
              "2  2018                    1291.0         3746.32            0.00\n",
              "3  2019                    1696.0        10787.54            0.00\n",
              "4  2020                    2003.0        18880.89      2372990.23\n",
              "5  2021                    2869.0        38744.55      7159285.80\n",
              "6  2022                    2926.0        51600.12      8910587.82"
            ],
            "text/html": [
              "\n",
              "  <div id=\"df-3550db95-0262-48b0-b3ce-5c1e05f52ee3\">\n",
              "    <div class=\"colab-df-container\">\n",
              "      <div>\n",
              "<style scoped>\n",
              "    .dataframe tbody tr th:only-of-type {\n",
              "        vertical-align: middle;\n",
              "    }\n",
              "\n",
              "    .dataframe tbody tr th {\n",
              "        vertical-align: top;\n",
              "    }\n",
              "\n",
              "    .dataframe thead th {\n",
              "        text-align: right;\n",
              "    }\n",
              "</style>\n",
              "<table border=\"1\" class=\"dataframe\">\n",
              "  <thead>\n",
              "    <tr style=\"text-align: right;\">\n",
              "      <th></th>\n",
              "      <th>year</th>\n",
              "      <th>No. of Banks live on UPI</th>\n",
              "      <th>Volume (in Mn)</th>\n",
              "      <th>Value (in Cr.)</th>\n",
              "    </tr>\n",
              "  </thead>\n",
              "  <tbody>\n",
              "    <tr>\n",
              "      <th>0</th>\n",
              "      <td>2016</td>\n",
              "      <td>221.0</td>\n",
              "      <td>2.65</td>\n",
              "      <td>0.00</td>\n",
              "    </tr>\n",
              "    <tr>\n",
              "      <th>1</th>\n",
              "      <td>2017</td>\n",
              "      <td>626.0</td>\n",
              "      <td>429.15</td>\n",
              "      <td>0.00</td>\n",
              "    </tr>\n",
              "    <tr>\n",
              "      <th>2</th>\n",
              "      <td>2018</td>\n",
              "      <td>1291.0</td>\n",
              "      <td>3746.32</td>\n",
              "      <td>0.00</td>\n",
              "    </tr>\n",
              "    <tr>\n",
              "      <th>3</th>\n",
              "      <td>2019</td>\n",
              "      <td>1696.0</td>\n",
              "      <td>10787.54</td>\n",
              "      <td>0.00</td>\n",
              "    </tr>\n",
              "    <tr>\n",
              "      <th>4</th>\n",
              "      <td>2020</td>\n",
              "      <td>2003.0</td>\n",
              "      <td>18880.89</td>\n",
              "      <td>2372990.23</td>\n",
              "    </tr>\n",
              "    <tr>\n",
              "      <th>5</th>\n",
              "      <td>2021</td>\n",
              "      <td>2869.0</td>\n",
              "      <td>38744.55</td>\n",
              "      <td>7159285.80</td>\n",
              "    </tr>\n",
              "    <tr>\n",
              "      <th>6</th>\n",
              "      <td>2022</td>\n",
              "      <td>2926.0</td>\n",
              "      <td>51600.12</td>\n",
              "      <td>8910587.82</td>\n",
              "    </tr>\n",
              "  </tbody>\n",
              "</table>\n",
              "</div>\n",
              "      <button class=\"colab-df-convert\" onclick=\"convertToInteractive('df-3550db95-0262-48b0-b3ce-5c1e05f52ee3')\"\n",
              "              title=\"Convert this dataframe to an interactive table.\"\n",
              "              style=\"display:none;\">\n",
              "        \n",
              "  <svg xmlns=\"http://www.w3.org/2000/svg\" height=\"24px\"viewBox=\"0 0 24 24\"\n",
              "       width=\"24px\">\n",
              "    <path d=\"M0 0h24v24H0V0z\" fill=\"none\"/>\n",
              "    <path d=\"M18.56 5.44l.94 2.06.94-2.06 2.06-.94-2.06-.94-.94-2.06-.94 2.06-2.06.94zm-11 1L8.5 8.5l.94-2.06 2.06-.94-2.06-.94L8.5 2.5l-.94 2.06-2.06.94zm10 10l.94 2.06.94-2.06 2.06-.94-2.06-.94-.94-2.06-.94 2.06-2.06.94z\"/><path d=\"M17.41 7.96l-1.37-1.37c-.4-.4-.92-.59-1.43-.59-.52 0-1.04.2-1.43.59L10.3 9.45l-7.72 7.72c-.78.78-.78 2.05 0 2.83L4 21.41c.39.39.9.59 1.41.59.51 0 1.02-.2 1.41-.59l7.78-7.78 2.81-2.81c.8-.78.8-2.07 0-2.86zM5.41 20L4 18.59l7.72-7.72 1.47 1.35L5.41 20z\"/>\n",
              "  </svg>\n",
              "      </button>\n",
              "      \n",
              "  <style>\n",
              "    .colab-df-container {\n",
              "      display:flex;\n",
              "      flex-wrap:wrap;\n",
              "      gap: 12px;\n",
              "    }\n",
              "\n",
              "    .colab-df-convert {\n",
              "      background-color: #E8F0FE;\n",
              "      border: none;\n",
              "      border-radius: 50%;\n",
              "      cursor: pointer;\n",
              "      display: none;\n",
              "      fill: #1967D2;\n",
              "      height: 32px;\n",
              "      padding: 0 0 0 0;\n",
              "      width: 32px;\n",
              "    }\n",
              "\n",
              "    .colab-df-convert:hover {\n",
              "      background-color: #E2EBFA;\n",
              "      box-shadow: 0px 1px 2px rgba(60, 64, 67, 0.3), 0px 1px 3px 1px rgba(60, 64, 67, 0.15);\n",
              "      fill: #174EA6;\n",
              "    }\n",
              "\n",
              "    [theme=dark] .colab-df-convert {\n",
              "      background-color: #3B4455;\n",
              "      fill: #D2E3FC;\n",
              "    }\n",
              "\n",
              "    [theme=dark] .colab-df-convert:hover {\n",
              "      background-color: #434B5C;\n",
              "      box-shadow: 0px 1px 3px 1px rgba(0, 0, 0, 0.15);\n",
              "      filter: drop-shadow(0px 1px 2px rgba(0, 0, 0, 0.3));\n",
              "      fill: #FFFFFF;\n",
              "    }\n",
              "  </style>\n",
              "\n",
              "      <script>\n",
              "        const buttonEl =\n",
              "          document.querySelector('#df-3550db95-0262-48b0-b3ce-5c1e05f52ee3 button.colab-df-convert');\n",
              "        buttonEl.style.display =\n",
              "          google.colab.kernel.accessAllowed ? 'block' : 'none';\n",
              "\n",
              "        async function convertToInteractive(key) {\n",
              "          const element = document.querySelector('#df-3550db95-0262-48b0-b3ce-5c1e05f52ee3');\n",
              "          const dataTable =\n",
              "            await google.colab.kernel.invokeFunction('convertToInteractive',\n",
              "                                                     [key], {});\n",
              "          if (!dataTable) return;\n",
              "\n",
              "          const docLinkHtml = 'Like what you see? Visit the ' +\n",
              "            '<a target=\"_blank\" href=https://colab.research.google.com/notebooks/data_table.ipynb>data table notebook</a>'\n",
              "            + ' to learn more about interactive tables.';\n",
              "          element.innerHTML = '';\n",
              "          dataTable['output_type'] = 'display_data';\n",
              "          await google.colab.output.renderOutput(dataTable, element);\n",
              "          const docLink = document.createElement('div');\n",
              "          docLink.innerHTML = docLinkHtml;\n",
              "          element.appendChild(docLink);\n",
              "        }\n",
              "      </script>\n",
              "    </div>\n",
              "  </div>\n",
              "  "
            ]
          },
          "metadata": {},
          "execution_count": 17
        }
      ]
    },
    {
      "cell_type": "code",
      "source": [],
      "metadata": {
        "id": "hf9BmrpY44lR"
      },
      "execution_count": 17,
      "outputs": []
    },
    {
      "cell_type": "code",
      "source": [
        "#df2=df1"
      ],
      "metadata": {
        "id": "_9BNVMe0J32P"
      },
      "execution_count": 18,
      "outputs": []
    },
    {
      "cell_type": "code",
      "source": [
        "#df2[\"Month\"]=[i for i in range(78)]"
      ],
      "metadata": {
        "id": "VUzOPipBrCXm"
      },
      "execution_count": 19,
      "outputs": []
    },
    {
      "cell_type": "code",
      "source": [
        "#df2"
      ],
      "metadata": {
        "id": "GKmGPI-rrTSj"
      },
      "execution_count": 20,
      "outputs": []
    },
    {
      "cell_type": "code",
      "source": [
        "#df2"
      ],
      "metadata": {
        "id": "FgT5-Id_r8Sc"
      },
      "execution_count": 21,
      "outputs": []
    },
    {
      "cell_type": "code",
      "source": [
        "#df2=df2.dropna(subset=[\"Value (in Cr.)\"])\n",
        "#df2"
      ],
      "metadata": {
        "id": "7gZu4ndsuqdx"
      },
      "execution_count": 22,
      "outputs": []
    },
    {
      "cell_type": "code",
      "source": [
        "plt.scatter(x[\"year\"],x[\"Value (in Cr.)\"])"
      ],
      "metadata": {
        "id": "lTrAaXpyXN0a",
        "colab": {
          "base_uri": "https://localhost:8080/",
          "height": 293
        },
        "outputId": "eb1795fd-5b6b-4b25-daf0-54be29d1206d"
      },
      "execution_count": 23,
      "outputs": [
        {
          "output_type": "execute_result",
          "data": {
            "text/plain": [
              "<matplotlib.collections.PathCollection at 0x7fb2dea087c0>"
            ]
          },
          "metadata": {},
          "execution_count": 23
        },
        {
          "output_type": "display_data",
          "data": {
            "text/plain": [
              "<Figure size 432x288 with 1 Axes>"
            ],
            "image/png": "[encoded data removed]"
          },
          "metadata": {
            "needs_background": "light"
          }
        }
      ]
    },
    {
      "cell_type": "code",
      "source": [
        "plt.pie(x[\"Value (in Cr.)\"],labels=x[\"year\"])"
      ],
      "metadata": {
        "id": "p0RXVpOnXy1c",
        "colab": {
          "base_uri": "https://localhost:8080/",
          "height": 491
        },
        "outputId": "5db63eeb-2881-4cd2-d47c-496654b7369f"
      },
      "execution_count": 24,
      "outputs": [
        {
          "output_type": "execute_result",
          "data": {
            "text/plain": [
              "([<matplotlib.patches.Wedge at 0x7fb2de9f4f70>,\n",
              "  <matplotlib.patches.Wedge at 0x7fb2de982370>,\n",
              "  <matplotlib.patches.Wedge at 0x7fb2de982850>,\n",
              "  <matplotlib.patches.Wedge at 0x7fb2de982d60>,\n",
              "  <matplotlib.patches.Wedge at 0x7fb2de98f280>,\n",
              "  <matplotlib.patches.Wedge at 0x7fb2de98f760>,\n",
              "  <matplotlib.patches.Wedge at 0x7fb2de98fc40>],\n",
              " [Text(1.1, 0.0, '2016'),\n",
              "  Text(1.1, 0.0, '2017'),\n",
              "  Text(1.1, 0.0, '2018'),\n",
              "  Text(1.1, 0.0, '2019'),\n",
              "  Text(1.0113505415027548, 0.43263157790675044, '2020'),\n",
              "  Text(-0.485550998444395, 0.9870360823747283, '2021'),\n",
              "  Text(0.058217534032060356, -1.0984583372760326, '2022')])"
            ]
          },
          "metadata": {},
          "execution_count": 24
        },
        {
          "output_type": "display_data",
          "data": {
            "text/plain": [
              "<Figure size 432x288 with 1 Axes>"
            ],
            "image/png": "[encoded data removed]"
          },
          "metadata": {}
        }
      ]
    },
    {
      "cell_type": "code",
      "source": [
        "plt.scatter(df1[\"Month\"],df1[\"Value (in Cr.)\"])"
      ],
      "metadata": {
        "id": "Q-bD_MWChZKv",
        "colab": {
          "base_uri": "https://localhost:8080/",
          "height": 293
        },
        "outputId": "8a91fe9d-95df-4766-a6e8-b98ee08fd59c"
      },
      "execution_count": 25,
      "outputs": [
        {
          "output_type": "execute_result",
          "data": {
            "text/plain": [
              "<matplotlib.collections.PathCollection at 0x7fb2de95c850>"
            ]
          },
          "metadata": {},
          "execution_count": 25
        },
        {
          "output_type": "display_data",
          "data": {
            "text/plain": [
              "<Figure size 432x288 with 1 Axes>"
            ],
            "image/png": "[encoded data removed]"
          },
          "metadata": {
            "needs_background": "light"
          }
        }
      ]
    },
    {
      "cell_type": "code",
      "source": [
        "y=df2021.groupby([\"UPI Banks\"],as_index=False).sum()"
      ],
      "metadata": {
        "id": "ZWDlRKaE5B4o"
      },
      "execution_count": 26,
      "outputs": []
    },
    {
      "cell_type": "code",
      "source": [
        "y=y.sort_values(\"Value (Cr)\").iloc[::-1]"
      ],
      "metadata": {
        "id": "UXwWm0Ei5i3F"
      },
      "execution_count": 27,
      "outputs": []
    },
    {
      "cell_type": "code",
      "source": [
        "y=y.drop([\"Month\"],axis=1)\n",
        "y=y.drop([\"Year\"],axis=1)"
      ],
      "metadata": {
        "id": "ZwF6ja7v5irR"
      },
      "execution_count": 28,
      "outputs": []
    },
    {
      "cell_type": "code",
      "source": [
        "y"
      ],
      "metadata": {
        "id": "2ECvbTB05WOc",
        "colab": {
          "base_uri": "https://localhost:8080/",
          "height": 423
        },
        "outputId": "d640d4ac-8a3c-419a-c53d-295d1e13f558"
      },
      "execution_count": 29,
      "outputs": [
        {
          "output_type": "execute_result",
          "data": {
            "text/plain": [
              "                     UPI Banks  Volume (Mn) By Costumers  \\\n",
              "51                     PhonePe                  17470.81   \n",
              "26                  Google Pay                  13541.88   \n",
              "50     Paytm Payments Bank App                   4827.38   \n",
              "16                        Cred                     80.96   \n",
              "6                         BHIM                    289.43   \n",
              "..                         ...                       ...   \n",
              "56                      RealMe                      0.04   \n",
              "54       Punjab Sindh Bank App                      0.02   \n",
              "25                     Goibibo                      0.01   \n",
              "41                    Khalijeb                      0.02   \n",
              "35  Jammu and Kashmir Bank App                      0.01   \n",
              "\n",
              "    Value (Cr) by Costumers  Volume (Mn)  Value (Cr)  \n",
              "51               3365727.16     17470.81  3365727.06  \n",
              "26               2737496.81     13541.88  2737496.81  \n",
              "50                573899.84      5640.23   669189.79  \n",
              "16                 97013.60        80.96    97013.60  \n",
              "6                  91106.89       289.43    91106.89  \n",
              "..                      ...          ...         ...  \n",
              "56                     5.34         0.04        5.34  \n",
              "54                     5.23         0.02        5.23  \n",
              "25                     2.62         0.01        2.62  \n",
              "41                     2.49         0.02        2.49  \n",
              "35                     1.93         0.01        1.93  \n",
              "\n",
              "[69 rows x 5 columns]"
            ],
            "text/html": [
              "\n",
              "  <div id=\"df-66030daf-5803-48fc-b423-65674aad24e2\">\n",
              "    <div class=\"colab-df-container\">\n",
              "      <div>\n",
              "<style scoped>\n",
              "    .dataframe tbody tr th:only-of-type {\n",
              "        vertical-align: middle;\n",
              "    }\n",
              "\n",
              "    .dataframe tbody tr th {\n",
              "        vertical-align: top;\n",
              "    }\n",
              "\n",
              "    .dataframe thead th {\n",
              "        text-align: right;\n",
              "    }\n",
              "</style>\n",
              "<table border=\"1\" class=\"dataframe\">\n",
              "  <thead>\n",
              "    <tr style=\"text-align: right;\">\n",
              "      <th></th>\n",
              "      <th>UPI Banks</th>\n",
              "      <th>Volume (Mn) By Costumers</th>\n",
              "      <th>Value (Cr) by Costumers</th>\n",
              "      <th>Volume (Mn)</th>\n",
              "      <th>Value (Cr)</th>\n",
              "    </tr>\n",
              "  </thead>\n",
              "  <tbody>\n",
              "    <tr>\n",
              "      <th>51</th>\n",
              "      <td>PhonePe</td>\n",
              "      <td>17470.81</td>\n",
              "      <td>3365727.16</td>\n",
              "      <td>17470.81</td>\n",
              "      <td>3365727.06</td>\n",
              "    </tr>\n",
              "    <tr>\n",
              "      <th>26</th>\n",
              "      <td>Google Pay</td>\n",
              "      <td>13541.88</td>\n",
              "      <td>2737496.81</td>\n",
              "      <td>13541.88</td>\n",
              "      <td>2737496.81</td>\n",
              "    </tr>\n",
              "    <tr>\n",
              "      <th>50</th>\n",
              "      <td>Paytm Payments Bank App</td>\n",
              "      <td>4827.38</td>\n",
              "      <td>573899.84</td>\n",
              "      <td>5640.23</td>\n",
              "      <td>669189.79</td>\n",
              "    </tr>\n",
              "    <tr>\n",
              "      <th>16</th>\n",
              "      <td>Cred</td>\n",
              "      <td>80.96</td>\n",
              "      <td>97013.60</td>\n",
              "      <td>80.96</td>\n",
              "      <td>97013.60</td>\n",
              "    </tr>\n",
              "    <tr>\n",
              "      <th>6</th>\n",
              "      <td>BHIM</td>\n",
              "      <td>289.43</td>\n",
              "      <td>91106.89</td>\n",
              "      <td>289.43</td>\n",
              "      <td>91106.89</td>\n",
              "    </tr>\n",
              "    <tr>\n",
              "      <th>...</th>\n",
              "      <td>...</td>\n",
              "      <td>...</td>\n",
              "      <td>...</td>\n",
              "      <td>...</td>\n",
              "      <td>...</td>\n",
              "    </tr>\n",
              "    <tr>\n",
              "      <th>56</th>\n",
              "      <td>RealMe</td>\n",
              "      <td>0.04</td>\n",
              "      <td>5.34</td>\n",
              "      <td>0.04</td>\n",
              "      <td>5.34</td>\n",
              "    </tr>\n",
              "    <tr>\n",
              "      <th>54</th>\n",
              "      <td>Punjab Sindh Bank App</td>\n",
              "      <td>0.02</td>\n",
              "      <td>5.23</td>\n",
              "      <td>0.02</td>\n",
              "      <td>5.23</td>\n",
              "    </tr>\n",
              "    <tr>\n",
              "      <th>25</th>\n",
              "      <td>Goibibo</td>\n",
              "      <td>0.01</td>\n",
              "      <td>2.62</td>\n",
              "      <td>0.01</td>\n",
              "      <td>2.62</td>\n",
              "    </tr>\n",
              "    <tr>\n",
              "      <th>41</th>\n",
              "      <td>Khalijeb</td>\n",
              "      <td>0.02</td>\n",
              "      <td>2.49</td>\n",
              "      <td>0.02</td>\n",
              "      <td>2.49</td>\n",
              "    </tr>\n",
              "    <tr>\n",
              "      <th>35</th>\n",
              "      <td>Jammu and Kashmir Bank App</td>\n",
              "      <td>0.01</td>\n",
              "      <td>1.93</td>\n",
              "      <td>0.01</td>\n",
              "      <td>1.93</td>\n",
              "    </tr>\n",
              "  </tbody>\n",
              "</table>\n",
              "<p>69 rows × 5 columns</p>\n",
              "</div>\n",
              "      <button class=\"colab-df-convert\" onclick=\"convertToInteractive('df-66030daf-5803-48fc-b423-65674aad24e2')\"\n",
              "              title=\"Convert this dataframe to an interactive table.\"\n",
              "              style=\"display:none;\">\n",
              "        \n",
              "  <svg xmlns=\"http://www.w3.org/2000/svg\" height=\"24px\"viewBox=\"0 0 24 24\"\n",
              "       width=\"24px\">\n",
              "    <path d=\"M0 0h24v24H0V0z\" fill=\"none\"/>\n",
              "    <path d=\"M18.56 5.44l.94 2.06.94-2.06 2.06-.94-2.06-.94-.94-2.06-.94 2.06-2.06.94zm-11 1L8.5 8.5l.94-2.06 2.06-.94-2.06-.94L8.5 2.5l-.94 2.06-2.06.94zm10 10l.94 2.06.94-2.06 2.06-.94-2.06-.94-.94-2.06-.94 2.06-2.06.94z\"/><path d=\"M17.41 7.96l-1.37-1.37c-.4-.4-.92-.59-1.43-.59-.52 0-1.04.2-1.43.59L10.3 9.45l-7.72 7.72c-.78.78-.78 2.05 0 2.83L4 21.41c.39.39.9.59 1.41.59.51 0 1.02-.2 1.41-.59l7.78-7.78 2.81-2.81c.8-.78.8-2.07 0-2.86zM5.41 20L4 18.59l7.72-7.72 1.47 1.35L5.41 20z\"/>\n",
              "  </svg>\n",
              "      </button>\n",
              "      \n",
              "  <style>\n",
              "    .colab-df-container {\n",
              "      display:flex;\n",
              "      flex-wrap:wrap;\n",
              "      gap: 12px;\n",
              "    }\n",
              "\n",
              "    .colab-df-convert {\n",
              "      background-color: #E8F0FE;\n",
              "      border: none;\n",
              "      border-radius: 50%;\n",
              "      cursor: pointer;\n",
              "      display: none;\n",
              "      fill: #1967D2;\n",
              "      height: 32px;\n",
              "      padding: 0 0 0 0;\n",
              "      width: 32px;\n",
              "    }\n",
              "\n",
              "    .colab-df-convert:hover {\n",
              "      background-color: #E2EBFA;\n",
              "      box-shadow: 0px 1px 2px rgba(60, 64, 67, 0.3), 0px 1px 3px 1px rgba(60, 64, 67, 0.15);\n",
              "      fill: #174EA6;\n",
              "    }\n",
              "\n",
              "    [theme=dark] .colab-df-convert {\n",
              "      background-color: #3B4455;\n",
              "      fill: #D2E3FC;\n",
              "    }\n",
              "\n",
              "    [theme=dark] .colab-df-convert:hover {\n",
              "      background-color: #434B5C;\n",
              "      box-shadow: 0px 1px 3px 1px rgba(0, 0, 0, 0.15);\n",
              "      filter: drop-shadow(0px 1px 2px rgba(0, 0, 0, 0.3));\n",
              "      fill: #FFFFFF;\n",
              "    }\n",
              "  </style>\n",
              "\n",
              "      <script>\n",
              "        const buttonEl =\n",
              "          document.querySelector('#df-66030daf-5803-48fc-b423-65674aad24e2 button.colab-df-convert');\n",
              "        buttonEl.style.display =\n",
              "          google.colab.kernel.accessAllowed ? 'block' : 'none';\n",
              "\n",
              "        async function convertToInteractive(key) {\n",
              "          const element = document.querySelector('#df-66030daf-5803-48fc-b423-65674aad24e2');\n",
              "          const dataTable =\n",
              "            await google.colab.kernel.invokeFunction('convertToInteractive',\n",
              "                                                     [key], {});\n",
              "          if (!dataTable) return;\n",
              "\n",
              "          const docLinkHtml = 'Like what you see? Visit the ' +\n",
              "            '<a target=\"_blank\" href=https://colab.research.google.com/notebooks/data_table.ipynb>data table notebook</a>'\n",
              "            + ' to learn more about interactive tables.';\n",
              "          element.innerHTML = '';\n",
              "          dataTable['output_type'] = 'display_data';\n",
              "          await google.colab.output.renderOutput(dataTable, element);\n",
              "          const docLink = document.createElement('div');\n",
              "          docLink.innerHTML = docLinkHtml;\n",
              "          element.appendChild(docLink);\n",
              "        }\n",
              "      </script>\n",
              "    </div>\n",
              "  </div>\n",
              "  "
            ]
          },
          "metadata": {},
          "execution_count": 29
        }
      ]
    },
    {
      "cell_type": "code",
      "source": [
        "y.iloc[:9]"
      ],
      "metadata": {
        "id": "3dkNYLz2-MUv",
        "colab": {
          "base_uri": "https://localhost:8080/",
          "height": 331
        },
        "outputId": "a3fc89d1-706b-4286-b6e2-2aaad56daca5"
      },
      "execution_count": 30,
      "outputs": [
        {
          "output_type": "execute_result",
          "data": {
            "text/plain": [
              "                    UPI Banks  Volume (Mn) By Costumers  \\\n",
              "51                    PhonePe                  17470.81   \n",
              "26                 Google Pay                  13541.88   \n",
              "50    Paytm Payments Bank App                   4827.38   \n",
              "16                       Cred                     80.96   \n",
              "6                        BHIM                    289.43   \n",
              "29            ICICI Bank Apps                    191.06   \n",
              "67              Yes Bank Apps                    292.50   \n",
              "3                  Amazon Pay                    704.15   \n",
              "1   Airtel Payments Bank Apps                     67.37   \n",
              "\n",
              "    Value (Cr) by Costumers  Volume (Mn)  Value (Cr)  \n",
              "51               3365727.16     17470.81  3365727.06  \n",
              "26               2737496.81     13541.88  2737496.81  \n",
              "50                573899.84      5640.23   669189.79  \n",
              "16                 97013.60        80.96    97013.60  \n",
              "6                  91106.89       289.43    91106.89  \n",
              "29                 60568.91       227.74    62297.95  \n",
              "67                 61298.95       293.08    61299.32  \n",
              "3                  60962.34       704.15    60962.34  \n",
              "1                  13317.81       109.80    40586.97  "
            ],
            "text/html": [
              "\n",
              "  <div id=\"df-f7ca54c7-4f91-4c19-9ed3-0d1099200fe4\">\n",
              "    <div class=\"colab-df-container\">\n",
              "      <div>\n",
              "<style scoped>\n",
              "    .dataframe tbody tr th:only-of-type {\n",
              "        vertical-align: middle;\n",
              "    }\n",
              "\n",
              "    .dataframe tbody tr th {\n",
              "        vertical-align: top;\n",
              "    }\n",
              "\n",
              "    .dataframe thead th {\n",
              "        text-align: right;\n",
              "    }\n",
              "</style>\n",
              "<table border=\"1\" class=\"dataframe\">\n",
              "  <thead>\n",
              "    <tr style=\"text-align: right;\">\n",
              "      <th></th>\n",
              "      <th>UPI Banks</th>\n",
              "      <th>Volume (Mn) By Costumers</th>\n",
              "      <th>Value (Cr) by Costumers</th>\n",
              "      <th>Volume (Mn)</th>\n",
              "      <th>Value (Cr)</th>\n",
              "    </tr>\n",
              "  </thead>\n",
              "  <tbody>\n",
              "    <tr>\n",
              "      <th>51</th>\n",
              "      <td>PhonePe</td>\n",
              "      <td>17470.81</td>\n",
              "      <td>3365727.16</td>\n",
              "      <td>17470.81</td>\n",
              "      <td>3365727.06</td>\n",
              "    </tr>\n",
              "    <tr>\n",
              "      <th>26</th>\n",
              "      <td>Google Pay</td>\n",
              "      <td>13541.88</td>\n",
              "      <td>2737496.81</td>\n",
              "      <td>13541.88</td>\n",
              "      <td>2737496.81</td>\n",
              "    </tr>\n",
              "    <tr>\n",
              "      <th>50</th>\n",
              "      <td>Paytm Payments Bank App</td>\n",
              "      <td>4827.38</td>\n",
              "      <td>573899.84</td>\n",
              "      <td>5640.23</td>\n",
              "      <td>669189.79</td>\n",
              "    </tr>\n",
              "    <tr>\n",
              "      <th>16</th>\n",
              "      <td>Cred</td>\n",
              "      <td>80.96</td>\n",
              "      <td>97013.60</td>\n",
              "      <td>80.96</td>\n",
              "      <td>97013.60</td>\n",
              "    </tr>\n",
              "    <tr>\n",
              "      <th>6</th>\n",
              "      <td>BHIM</td>\n",
              "      <td>289.43</td>\n",
              "      <td>91106.89</td>\n",
              "      <td>289.43</td>\n",
              "      <td>91106.89</td>\n",
              "    </tr>\n",
              "    <tr>\n",
              "      <th>29</th>\n",
              "      <td>ICICI Bank Apps</td>\n",
              "      <td>191.06</td>\n",
              "      <td>60568.91</td>\n",
              "      <td>227.74</td>\n",
              "      <td>62297.95</td>\n",
              "    </tr>\n",
              "    <tr>\n",
              "      <th>67</th>\n",
              "      <td>Yes Bank Apps</td>\n",
              "      <td>292.50</td>\n",
              "      <td>61298.95</td>\n",
              "      <td>293.08</td>\n",
              "      <td>61299.32</td>\n",
              "    </tr>\n",
              "    <tr>\n",
              "      <th>3</th>\n",
              "      <td>Amazon Pay</td>\n",
              "      <td>704.15</td>\n",
              "      <td>60962.34</td>\n",
              "      <td>704.15</td>\n",
              "      <td>60962.34</td>\n",
              "    </tr>\n",
              "    <tr>\n",
              "      <th>1</th>\n",
              "      <td>Airtel Payments Bank Apps</td>\n",
              "      <td>67.37</td>\n",
              "      <td>13317.81</td>\n",
              "      <td>109.80</td>\n",
              "      <td>40586.97</td>\n",
              "    </tr>\n",
              "  </tbody>\n",
              "</table>\n",
              "</div>\n",
              "      <button class=\"colab-df-convert\" onclick=\"convertToInteractive('df-f7ca54c7-4f91-4c19-9ed3-0d1099200fe4')\"\n",
              "              title=\"Convert this dataframe to an interactive table.\"\n",
              "              style=\"display:none;\">\n",
              "        \n",
              "  <svg xmlns=\"http://www.w3.org/2000/svg\" height=\"24px\"viewBox=\"0 0 24 24\"\n",
              "       width=\"24px\">\n",
              "    <path d=\"M0 0h24v24H0V0z\" fill=\"none\"/>\n",
              "    <path d=\"M18.56 5.44l.94 2.06.94-2.06 2.06-.94-2.06-.94-.94-2.06-.94 2.06-2.06.94zm-11 1L8.5 8.5l.94-2.06 2.06-.94-2.06-.94L8.5 2.5l-.94 2.06-2.06.94zm10 10l.94 2.06.94-2.06 2.06-.94-2.06-.94-.94-2.06-.94 2.06-2.06.94z\"/><path d=\"M17.41 7.96l-1.37-1.37c-.4-.4-.92-.59-1.43-.59-.52 0-1.04.2-1.43.59L10.3 9.45l-7.72 7.72c-.78.78-.78 2.05 0 2.83L4 21.41c.39.39.9.59 1.41.59.51 0 1.02-.2 1.41-.59l7.78-7.78 2.81-2.81c.8-.78.8-2.07 0-2.86zM5.41 20L4 18.59l7.72-7.72 1.47 1.35L5.41 20z\"/>\n",
              "  </svg>\n",
              "      </button>\n",
              "      \n",
              "  <style>\n",
              "    .colab-df-container {\n",
              "      display:flex;\n",
              "      flex-wrap:wrap;\n",
              "      gap: 12px;\n",
              "    }\n",
              "\n",
              "    .colab-df-convert {\n",
              "      background-color: #E8F0FE;\n",
              "      border: none;\n",
              "      border-radius: 50%;\n",
              "      cursor: pointer;\n",
              "      display: none;\n",
              "      fill: #1967D2;\n",
              "      height: 32px;\n",
              "      padding: 0 0 0 0;\n",
              "      width: 32px;\n",
              "    }\n",
              "\n",
              "    .colab-df-convert:hover {\n",
              "      background-color: #E2EBFA;\n",
              "      box-shadow: 0px 1px 2px rgba(60, 64, 67, 0.3), 0px 1px 3px 1px rgba(60, 64, 67, 0.15);\n",
              "      fill: #174EA6;\n",
              "    }\n",
              "\n",
              "    [theme=dark] .colab-df-convert {\n",
              "      background-color: #3B4455;\n",
              "      fill: #D2E3FC;\n",
              "    }\n",
              "\n",
              "    [theme=dark] .colab-df-convert:hover {\n",
              "      background-color: #434B5C;\n",
              "      box-shadow: 0px 1px 3px 1px rgba(0, 0, 0, 0.15);\n",
              "      filter: drop-shadow(0px 1px 2px rgba(0, 0, 0, 0.3));\n",
              "      fill: #FFFFFF;\n",
              "    }\n",
              "  </style>\n",
              "\n",
              "      <script>\n",
              "        const buttonEl =\n",
              "          document.querySelector('#df-f7ca54c7-4f91-4c19-9ed3-0d1099200fe4 button.colab-df-convert');\n",
              "        buttonEl.style.display =\n",
              "          google.colab.kernel.accessAllowed ? 'block' : 'none';\n",
              "\n",
              "        async function convertToInteractive(key) {\n",
              "          const element = document.querySelector('#df-f7ca54c7-4f91-4c19-9ed3-0d1099200fe4');\n",
              "          const dataTable =\n",
              "            await google.colab.kernel.invokeFunction('convertToInteractive',\n",
              "                                                     [key], {});\n",
              "          if (!dataTable) return;\n",
              "\n",
              "          const docLinkHtml = 'Like what you see? Visit the ' +\n",
              "            '<a target=\"_blank\" href=https://colab.research.google.com/notebooks/data_table.ipynb>data table notebook</a>'\n",
              "            + ' to learn more about interactive tables.';\n",
              "          element.innerHTML = '';\n",
              "          dataTable['output_type'] = 'display_data';\n",
              "          await google.colab.output.renderOutput(dataTable, element);\n",
              "          const docLink = document.createElement('div');\n",
              "          docLink.innerHTML = docLinkHtml;\n",
              "          element.appendChild(docLink);\n",
              "        }\n",
              "      </script>\n",
              "    </div>\n",
              "  </div>\n",
              "  "
            ]
          },
          "metadata": {},
          "execution_count": 30
        }
      ]
    },
    {
      "cell_type": "code",
      "source": [
        "plt.pie(x[\"Value (in Cr.)\"],labels=x[\"year\"])"
      ],
      "metadata": {
        "id": "SBIjWVaK-xbD",
        "colab": {
          "base_uri": "https://localhost:8080/",
          "height": 491
        },
        "outputId": "8c492ffe-f2f5-4cef-de92-0ece6454c302"
      },
      "execution_count": 31,
      "outputs": [
        {
          "output_type": "execute_result",
          "data": {
            "text/plain": [
              "([<matplotlib.patches.Wedge at 0x7fb2de86bbb0>,\n",
              "  <matplotlib.patches.Wedge at 0x7fb2de8790d0>,\n",
              "  <matplotlib.patches.Wedge at 0x7fb2de8795b0>,\n",
              "  <matplotlib.patches.Wedge at 0x7fb2de879970>,\n",
              "  <matplotlib.patches.Wedge at 0x7fb2de879e50>,\n",
              "  <matplotlib.patches.Wedge at 0x7fb2de807370>,\n",
              "  <matplotlib.patches.Wedge at 0x7fb2de807850>],\n",
              " [Text(1.1, 0.0, '2016'),\n",
              "  Text(1.1, 0.0, '2017'),\n",
              "  Text(1.1, 0.0, '2018'),\n",
              "  Text(1.1, 0.0, '2019'),\n",
              "  Text(1.0113505415027548, 0.43263157790675044, '2020'),\n",
              "  Text(-0.485550998444395, 0.9870360823747283, '2021'),\n",
              "  Text(0.058217534032060356, -1.0984583372760326, '2022')])"
            ]
          },
          "metadata": {},
          "execution_count": 31
        },
        {
          "output_type": "display_data",
          "data": {
            "text/plain": [
              "<Figure size 432x288 with 1 Axes>"
            ],
            "image/png": "[encoded data removed]"
          },
          "metadata": {}
        }
      ]
    },
    {
      "cell_type": "code",
      "source": [
        "\n",
        "#x_train, x_test,y_train, y_test = train_test_split(df2[\"Month\"],df2[\"Value (in Cr.)\"],test_size=0.2,random_state=123)"
      ],
      "metadata": {
        "id": "dMhgw256K5tv"
      },
      "execution_count": 32,
      "outputs": []
    },
    {
      "cell_type": "code",
      "source": [
        "#x_train=pd.DataFrame(x_train)\n",
        "#y_train=pd.DataFrame(y_train)"
      ],
      "metadata": {
        "id": "-BkGdq68qLLo"
      },
      "execution_count": 33,
      "outputs": []
    },
    {
      "cell_type": "code",
      "source": [],
      "metadata": {
        "id": "zq1jbg86aeMj"
      },
      "execution_count": 33,
      "outputs": []
    },
    {
      "cell_type": "code",
      "source": [
        "#model = Sequential()\n",
        "#model.add(Input(shape=(1,1), name='Input-Layer'))\n",
        "#model.add(GRU(128, activation='relu', return_sequences=True))\n",
        "#model.add(Dropout(0.2))\n",
        "\n",
        "#model.add(GRU(128, activation='relu'))\n",
        "#model.add(Dropout(0.1))\n",
        "\n",
        "#model.add(Dense(32, activation='relu'))\n",
        "#model.add(Dropout(0.2))\n",
        "\n",
        "#model.add(Dense(1, activation='sigmoid'))"
      ],
      "metadata": {
        "id": "4Ezeg5yJZkGG"
      },
      "execution_count": 34,
      "outputs": []
    },
    {
      "cell_type": "code",
      "source": [
        "#opt = tf.keras.optimizers.Adam(lr=0.001, decay=1e-6)\n",
        "\n",
        "#model.compile(\n",
        "# loss=\"sparse_categorical_crossentropy\",\n",
        "#   optimizer=opt,\n",
        "#   metrics=['accuracy'],\n",
        "#)\n"
      ],
      "metadata": {
        "id": "qqjgWkCrIFf1"
      },
      "execution_count": 35,
      "outputs": []
    },
    {
      "cell_type": "code",
      "source": [],
      "metadata": {
        "id": "CgQ6Q8UF26_j"
      },
      "execution_count": 35,
      "outputs": []
    },
    {
      "cell_type": "code",
      "source": [
        "#y_train"
      ],
      "metadata": {
        "id": "r2Nmx7WipzMU"
      },
      "execution_count": 36,
      "outputs": []
    },
    {
      "cell_type": "code",
      "source": [
        "#model.fit(x_train,y_train, validation_data=(x_test,y_test),epochs=20)"
      ],
      "metadata": {
        "id": "bbqq4TqeKsUl"
      },
      "execution_count": 37,
      "outputs": []
    },
    {
      "cell_type": "code",
      "source": [
        "Banks=df2021.get(\"UPI Banks\")\n",
        "Value=df2021.get(\"Value (Cr)\")"
      ],
      "metadata": {
        "id": "ypI0jOVA9Mgx"
      },
      "execution_count": 38,
      "outputs": []
    },
    {
      "cell_type": "code",
      "source": [
        "plt.bar(df2021[\"Month\"], (df2021[\"Value (Cr)\"]), color ='maroon',width = 0.4)"
      ],
      "metadata": {
        "id": "hJd1Lj6q_fe7",
        "colab": {
          "base_uri": "https://localhost:8080/",
          "height": 282
        },
        "outputId": "7121765b-da2e-479c-8dab-732027032570"
      },
      "execution_count": 39,
      "outputs": [
        {
          "output_type": "execute_result",
          "data": {
            "text/plain": [
              "<BarContainer object of 654 artists>"
            ]
          },
          "metadata": {},
          "execution_count": 39
        },
        {
          "output_type": "display_data",
          "data": {
            "text/plain": [
              "<Figure size 432x288 with 1 Axes>"
            ],
            "image/png": "[encoded data removed]"
          },
          "metadata": {
            "needs_background": "light"
          }
        }
      ]
    },
    {
      "cell_type": "code",
      "source": [
        "x=df2021.groupby([\"Month\"],as_index=False).sum()"
      ],
      "metadata": {
        "id": "HkNtdRxChLj6"
      },
      "execution_count": 40,
      "outputs": []
    },
    {
      "cell_type": "code",
      "source": [
        "plt.pie(x[\"Value (Cr)\"],labels=x[\"Month\"])"
      ],
      "metadata": {
        "colab": {
          "base_uri": "https://localhost:8080/",
          "height": 665
        },
        "id": "WX8cTFhwgZLI",
        "outputId": "ce82465b-fd9d-40aa-bde9-47024aac3476"
      },
      "execution_count": 41,
      "outputs": [
        {
          "output_type": "execute_result",
          "data": {
            "text/plain": [
              "([<matplotlib.patches.Wedge at 0x7fb2de203b80>,\n",
              "  <matplotlib.patches.Wedge at 0x7fb2de2120a0>,\n",
              "  <matplotlib.patches.Wedge at 0x7fb2de212580>,\n",
              "  <matplotlib.patches.Wedge at 0x7fb2de212a60>,\n",
              "  <matplotlib.patches.Wedge at 0x7fb2de212f40>,\n",
              "  <matplotlib.patches.Wedge at 0x7fb2de222460>,\n",
              "  <matplotlib.patches.Wedge at 0x7fb2de222940>,\n",
              "  <matplotlib.patches.Wedge at 0x7fb2de222e20>,\n",
              "  <matplotlib.patches.Wedge at 0x7fb2de236340>,\n",
              "  <matplotlib.patches.Wedge at 0x7fb2de236820>,\n",
              "  <matplotlib.patches.Wedge at 0x7fb2de203b50>,\n",
              "  <matplotlib.patches.Wedge at 0x7fb2de1c01f0>],\n",
              " [Text(1.0806751271243398, 0.20528338855054057, '1'),\n",
              "  Text(0.9316351535363536, 0.5848554870181992, '2'),\n",
              "  Text(0.6258776288777537, 0.9045867529819134, '3'),\n",
              "  Text(0.181585799864009, 1.0849085663260976, '4'),\n",
              "  Text(-0.2922762200827695, 1.060459622604335, '5'),\n",
              "  Text(-0.7276015155229636, 0.824982445030612, '6'),\n",
              "  Text(-1.03512483761242, 0.3721781435789335, '7'),\n",
              "  Text(-1.07847371452957, -0.21655125737060885, '8'),\n",
              "  Text(-0.7944065903761337, -0.7608667223416765, '9'),\n",
              "  Text(-0.19624610337075554, -1.0823527460637752, '10'),\n",
              "  Text(0.5283400416470664, -0.964809204139542, '11'),\n",
              "  Text(1.0274476236544703, -0.39287578271863766, '12')])"
            ]
          },
          "metadata": {},
          "execution_count": 41
        },
        {
          "output_type": "display_data",
          "data": {
            "text/plain": [
              "<Figure size 432x288 with 1 Axes>"
            ],
            "image/png": "[encoded data removed]"
          },
          "metadata": {}
        }
      ]
    },
    {
      "cell_type": "code",
      "source": [
        "z=df2021.drop(df2021.index[(df2021[\"Value (Cr)\"] <= df2021[\"Value (Cr)\"].mean())],axis=0)\n"
      ],
      "metadata": {
        "id": "J2h3NurxG0Qu"
      },
      "execution_count": 42,
      "outputs": []
    },
    {
      "cell_type": "code",
      "source": [
        "z=z.drop([\"Year\"],axis=1)"
      ],
      "metadata": {
        "id": "ghiy32GMY-An"
      },
      "execution_count": 43,
      "outputs": []
    },
    {
      "cell_type": "code",
      "source": [
        "z"
      ],
      "metadata": {
        "colab": {
          "base_uri": "https://localhost:8080/",
          "height": 1000
        },
        "id": "EAyZD7NqaFZw",
        "outputId": "8cb8fc83-915d-4874-b622-a5e9190af2b4"
      },
      "execution_count": 44,
      "outputs": [
        {
          "output_type": "execute_result",
          "data": {
            "text/plain": [
              "                     UPI Banks  Volume (Mn) By Costumers  \\\n",
              "8    Airtel Payments Bank Apps                      3.53   \n",
              "171                       Cred                     10.36   \n",
              "172                       Cred                      9.03   \n",
              "173                       Cred                      9.73   \n",
              "252                 Google Pay                   1587.43   \n",
              "253                 Google Pay                   1447.84   \n",
              "254                 Google Pay                   1451.93   \n",
              "255                 Google Pay                   1294.56   \n",
              "256                 Google Pay                   1243.75   \n",
              "257                 Google Pay                   1119.16   \n",
              "258                 Google Pay                    972.26   \n",
              "259                 Google Pay                    880.59   \n",
              "260                 Google Pay                    905.96   \n",
              "261                 Google Pay                    957.01   \n",
              "262                 Google Pay                    827.86   \n",
              "263                 Google Pay                    853.53   \n",
              "475    Paytm Payments Bank App                    612.71   \n",
              "476    Paytm Payments Bank App                    543.71   \n",
              "477    Paytm Payments Bank App                    542.57   \n",
              "478    Paytm Payments Bank App                    462.71   \n",
              "479    Paytm Payments Bank App                    423.63   \n",
              "480    Paytm Payments Bank App                    387.85   \n",
              "481    Paytm Payments Bank App                    326.53   \n",
              "482    Paytm Payments Bank App                    290.69   \n",
              "483    Paytm Payments Bank App                    320.78   \n",
              "484    Paytm Payments Bank App                    344.99   \n",
              "485    Paytm Payments Bank App                    290.03   \n",
              "486    Paytm Payments Bank App                    281.18   \n",
              "487                    PhonePe                   2077.60   \n",
              "488                    PhonePe                   1911.21   \n",
              "489                    PhonePe                   1937.57   \n",
              "490                    PhonePe                   1653.19   \n",
              "491                    PhonePe                   1622.95   \n",
              "492                    PhonePe                   1492.09   \n",
              "493                    PhonePe                   1292.71   \n",
              "494                    PhonePe                   1149.84   \n",
              "495                    PhonePe                   1189.89   \n",
              "496                    PhonePe                   1199.51   \n",
              "497                    PhonePe                    975.53   \n",
              "498                    PhonePe                    968.72   \n",
              "\n",
              "     Value (Cr) by Costumers  Volume (Mn)  Value (Cr)  Month  \n",
              "8                     363.66        14.70    11172.43      4  \n",
              "171                 13817.16        10.36    13817.16     12  \n",
              "172                 12277.85         9.03    12277.85     11  \n",
              "173                 12561.25         9.73    12561.25     10  \n",
              "252                302989.79      1587.43   302989.79     12  \n",
              "253                283357.99      1447.84   283357.99     11  \n",
              "254                287491.46      1451.93   287491.46     10  \n",
              "255                250393.65      1294.56   250393.65      9  \n",
              "256                244453.05      1243.75   244453.05      8  \n",
              "257                230847.54      1119.16   230847.54      7  \n",
              "258                207287.73       972.26   207287.73      6  \n",
              "259                187136.95       880.59   187136.95      5  \n",
              "260                190106.71       905.96   190106.71      4  \n",
              "261                201185.14       957.01   201185.14      3  \n",
              "262                174455.33       827.86   174455.33      2  \n",
              "263                177791.47       853.53   177791.47      1  \n",
              "475                 71874.13       706.37    88094.49     12  \n",
              "476                 66920.55       631.30    81403.37     11  \n",
              "477                 64727.41       632.18    80508.04     10  \n",
              "478                 53793.06       543.55    61417.53      9  \n",
              "479                 50021.40       498.65    56319.62      8  \n",
              "480                 46406.52       454.06    51694.41      7  \n",
              "481                 40614.09       383.05    44981.11      6  \n",
              "482                 35715.48       343.81    43741.16      5  \n",
              "483                 36859.20       372.70    41469.53      4  \n",
              "484                 38653.06       401.16    43221.25      3  \n",
              "485                 34405.44       340.71    38493.52      2  \n",
              "486                 33909.50       332.69    37845.76      1  \n",
              "487                394565.58      2077.60   394565.58     12  \n",
              "488                365044.32      1911.21   365044.32     11  \n",
              "489                365845.39      1937.57   365845.39     10  \n",
              "490                306437.37      1653.19   306437.37      9  \n",
              "491                301644.80      1622.95   301644.80      8  \n",
              "492                288573.00      1492.09   288572.90      7  \n",
              "493                262565.88      1292.71   262565.88      6  \n",
              "494                234123.57      1149.84   234123.57      5  \n",
              "495                234023.33      1189.89   234023.33      4  \n",
              "496                231412.33      1199.51   231412.33      3  \n",
              "497                189517.82       975.53   189517.82      2  \n",
              "498                191973.77       968.72   191973.77      1  "
            ],
            "text/html": [
              "\n",
              "  <div id=\"df-e09ff3df-5b5d-4099-b2d3-c9fdc3b33b3b\">\n",
              "    <div class=\"colab-df-container\">\n",
              "      <div>\n",
              "<style scoped>\n",
              "    .dataframe tbody tr th:only-of-type {\n",
              "        vertical-align: middle;\n",
              "    }\n",
              "\n",
              "    .dataframe tbody tr th {\n",
              "        vertical-align: top;\n",
              "    }\n",
              "\n",
              "    .dataframe thead th {\n",
              "        text-align: right;\n",
              "    }\n",
              "</style>\n",
              "<table border=\"1\" class=\"dataframe\">\n",
              "  <thead>\n",
              "    <tr style=\"text-align: right;\">\n",
              "      <th></th>\n",
              "      <th>UPI Banks</th>\n",
              "      <th>Volume (Mn) By Costumers</th>\n",
              "      <th>Value (Cr) by Costumers</th>\n",
              "      <th>Volume (Mn)</th>\n",
              "      <th>Value (Cr)</th>\n",
              "      <th>Month</th>\n",
              "    </tr>\n",
              "  </thead>\n",
              "  <tbody>\n",
              "    <tr>\n",
              "      <th>8</th>\n",
              "      <td>Airtel Payments Bank Apps</td>\n",
              "      <td>3.53</td>\n",
              "      <td>363.66</td>\n",
              "      <td>14.70</td>\n",
              "      <td>11172.43</td>\n",
              "      <td>4</td>\n",
              "    </tr>\n",
              "    <tr>\n",
              "      <th>171</th>\n",
              "      <td>Cred</td>\n",
              "      <td>10.36</td>\n",
              "      <td>13817.16</td>\n",
              "      <td>10.36</td>\n",
              "      <td>13817.16</td>\n",
              "      <td>12</td>\n",
              "    </tr>\n",
              "    <tr>\n",
              "      <th>172</th>\n",
              "      <td>Cred</td>\n",
              "      <td>9.03</td>\n",
              "      <td>12277.85</td>\n",
              "      <td>9.03</td>\n",
              "      <td>12277.85</td>\n",
              "      <td>11</td>\n",
              "    </tr>\n",
              "    <tr>\n",
              "      <th>173</th>\n",
              "      <td>Cred</td>\n",
              "      <td>9.73</td>\n",
              "      <td>12561.25</td>\n",
              "      <td>9.73</td>\n",
              "      <td>12561.25</td>\n",
              "      <td>10</td>\n",
              "    </tr>\n",
              "    <tr>\n",
              "      <th>252</th>\n",
              "      <td>Google Pay</td>\n",
              "      <td>1587.43</td>\n",
              "      <td>302989.79</td>\n",
              "      <td>1587.43</td>\n",
              "      <td>302989.79</td>\n",
              "      <td>12</td>\n",
              "    </tr>\n",
              "    <tr>\n",
              "      <th>253</th>\n",
              "      <td>Google Pay</td>\n",
              "      <td>1447.84</td>\n",
              "      <td>283357.99</td>\n",
              "      <td>1447.84</td>\n",
              "      <td>283357.99</td>\n",
              "      <td>11</td>\n",
              "    </tr>\n",
              "    <tr>\n",
              "      <th>254</th>\n",
              "      <td>Google Pay</td>\n",
              "      <td>1451.93</td>\n",
              "      <td>287491.46</td>\n",
              "      <td>1451.93</td>\n",
              "      <td>287491.46</td>\n",
              "      <td>10</td>\n",
              "    </tr>\n",
              "    <tr>\n",
              "      <th>255</th>\n",
              "      <td>Google Pay</td>\n",
              "      <td>1294.56</td>\n",
              "      <td>250393.65</td>\n",
              "      <td>1294.56</td>\n",
              "      <td>250393.65</td>\n",
              "      <td>9</td>\n",
              "    </tr>\n",
              "    <tr>\n",
              "      <th>256</th>\n",
              "      <td>Google Pay</td>\n",
              "      <td>1243.75</td>\n",
              "      <td>244453.05</td>\n",
              "      <td>1243.75</td>\n",
              "      <td>244453.05</td>\n",
              "      <td>8</td>\n",
              "    </tr>\n",
              "    <tr>\n",
              "      <th>257</th>\n",
              "      <td>Google Pay</td>\n",
              "      <td>1119.16</td>\n",
              "      <td>230847.54</td>\n",
              "      <td>1119.16</td>\n",
              "      <td>230847.54</td>\n",
              "      <td>7</td>\n",
              "    </tr>\n",
              "    <tr>\n",
              "      <th>258</th>\n",
              "      <td>Google Pay</td>\n",
              "      <td>972.26</td>\n",
              "      <td>207287.73</td>\n",
              "      <td>972.26</td>\n",
              "      <td>207287.73</td>\n",
              "      <td>6</td>\n",
              "    </tr>\n",
              "    <tr>\n",
              "      <th>259</th>\n",
              "      <td>Google Pay</td>\n",
              "      <td>880.59</td>\n",
              "      <td>187136.95</td>\n",
              "      <td>880.59</td>\n",
              "      <td>187136.95</td>\n",
              "      <td>5</td>\n",
              "    </tr>\n",
              "    <tr>\n",
              "      <th>260</th>\n",
              "      <td>Google Pay</td>\n",
              "      <td>905.96</td>\n",
              "      <td>190106.71</td>\n",
              "      <td>905.96</td>\n",
              "      <td>190106.71</td>\n",
              "      <td>4</td>\n",
              "    </tr>\n",
              "    <tr>\n",
              "      <th>261</th>\n",
              "      <td>Google Pay</td>\n",
              "      <td>957.01</td>\n",
              "      <td>201185.14</td>\n",
              "      <td>957.01</td>\n",
              "      <td>201185.14</td>\n",
              "      <td>3</td>\n",
              "    </tr>\n",
              "    <tr>\n",
              "      <th>262</th>\n",
              "      <td>Google Pay</td>\n",
              "      <td>827.86</td>\n",
              "      <td>174455.33</td>\n",
              "      <td>827.86</td>\n",
              "      <td>174455.33</td>\n",
              "      <td>2</td>\n",
              "    </tr>\n",
              "    <tr>\n",
              "      <th>263</th>\n",
              "      <td>Google Pay</td>\n",
              "      <td>853.53</td>\n",
              "      <td>177791.47</td>\n",
              "      <td>853.53</td>\n",
              "      <td>177791.47</td>\n",
              "      <td>1</td>\n",
              "    </tr>\n",
              "    <tr>\n",
              "      <th>475</th>\n",
              "      <td>Paytm Payments Bank App</td>\n",
              "      <td>612.71</td>\n",
              "      <td>71874.13</td>\n",
              "      <td>706.37</td>\n",
              "      <td>88094.49</td>\n",
              "      <td>12</td>\n",
              "    </tr>\n",
              "    <tr>\n",
              "      <th>476</th>\n",
              "      <td>Paytm Payments Bank App</td>\n",
              "      <td>543.71</td>\n",
              "      <td>66920.55</td>\n",
              "      <td>631.30</td>\n",
              "      <td>81403.37</td>\n",
              "      <td>11</td>\n",
              "    </tr>\n",
              "    <tr>\n",
              "      <th>477</th>\n",
              "      <td>Paytm Payments Bank App</td>\n",
              "      <td>542.57</td>\n",
              "      <td>64727.41</td>\n",
              "      <td>632.18</td>\n",
              "      <td>80508.04</td>\n",
              "      <td>10</td>\n",
              "    </tr>\n",
              "    <tr>\n",
              "      <th>478</th>\n",
              "      <td>Paytm Payments Bank App</td>\n",
              "      <td>462.71</td>\n",
              "      <td>53793.06</td>\n",
              "      <td>543.55</td>\n",
              "      <td>61417.53</td>\n",
              "      <td>9</td>\n",
              "    </tr>\n",
              "    <tr>\n",
              "      <th>479</th>\n",
              "      <td>Paytm Payments Bank App</td>\n",
              "      <td>423.63</td>\n",
              "      <td>50021.40</td>\n",
              "      <td>498.65</td>\n",
              "      <td>56319.62</td>\n",
              "      <td>8</td>\n",
              "    </tr>\n",
              "    <tr>\n",
              "      <th>480</th>\n",
              "      <td>Paytm Payments Bank App</td>\n",
              "      <td>387.85</td>\n",
              "      <td>46406.52</td>\n",
              "      <td>454.06</td>\n",
              "      <td>51694.41</td>\n",
              "      <td>7</td>\n",
              "    </tr>\n",
              "    <tr>\n",
              "      <th>481</th>\n",
              "      <td>Paytm Payments Bank App</td>\n",
              "      <td>326.53</td>\n",
              "      <td>40614.09</td>\n",
              "      <td>383.05</td>\n",
              "      <td>44981.11</td>\n",
              "      <td>6</td>\n",
              "    </tr>\n",
              "    <tr>\n",
              "      <th>482</th>\n",
              "      <td>Paytm Payments Bank App</td>\n",
              "      <td>290.69</td>\n",
              "      <td>35715.48</td>\n",
              "      <td>343.81</td>\n",
              "      <td>43741.16</td>\n",
              "      <td>5</td>\n",
              "    </tr>\n",
              "    <tr>\n",
              "      <th>483</th>\n",
              "      <td>Paytm Payments Bank App</td>\n",
              "      <td>320.78</td>\n",
              "      <td>36859.20</td>\n",
              "      <td>372.70</td>\n",
              "      <td>41469.53</td>\n",
              "      <td>4</td>\n",
              "    </tr>\n",
              "    <tr>\n",
              "      <th>484</th>\n",
              "      <td>Paytm Payments Bank App</td>\n",
              "      <td>344.99</td>\n",
              "      <td>38653.06</td>\n",
              "      <td>401.16</td>\n",
              "      <td>43221.25</td>\n",
              "      <td>3</td>\n",
              "    </tr>\n",
              "    <tr>\n",
              "      <th>485</th>\n",
              "      <td>Paytm Payments Bank App</td>\n",
              "      <td>290.03</td>\n",
              "      <td>34405.44</td>\n",
              "      <td>340.71</td>\n",
              "      <td>38493.52</td>\n",
              "      <td>2</td>\n",
              "    </tr>\n",
              "    <tr>\n",
              "      <th>486</th>\n",
              "      <td>Paytm Payments Bank App</td>\n",
              "      <td>281.18</td>\n",
              "      <td>33909.50</td>\n",
              "      <td>332.69</td>\n",
              "      <td>37845.76</td>\n",
              "      <td>1</td>\n",
              "    </tr>\n",
              "    <tr>\n",
              "      <th>487</th>\n",
              "      <td>PhonePe</td>\n",
              "      <td>2077.60</td>\n",
              "      <td>394565.58</td>\n",
              "      <td>2077.60</td>\n",
              "      <td>394565.58</td>\n",
              "      <td>12</td>\n",
              "    </tr>\n",
              "    <tr>\n",
              "      <th>488</th>\n",
              "      <td>PhonePe</td>\n",
              "      <td>1911.21</td>\n",
              "      <td>365044.32</td>\n",
              "      <td>1911.21</td>\n",
              "      <td>365044.32</td>\n",
              "      <td>11</td>\n",
              "    </tr>\n",
              "    <tr>\n",
              "      <th>489</th>\n",
              "      <td>PhonePe</td>\n",
              "      <td>1937.57</td>\n",
              "      <td>365845.39</td>\n",
              "      <td>1937.57</td>\n",
              "      <td>365845.39</td>\n",
              "      <td>10</td>\n",
              "    </tr>\n",
              "    <tr>\n",
              "      <th>490</th>\n",
              "      <td>PhonePe</td>\n",
              "      <td>1653.19</td>\n",
              "      <td>306437.37</td>\n",
              "      <td>1653.19</td>\n",
              "      <td>306437.37</td>\n",
              "      <td>9</td>\n",
              "    </tr>\n",
              "    <tr>\n",
              "      <th>491</th>\n",
              "      <td>PhonePe</td>\n",
              "      <td>1622.95</td>\n",
              "      <td>301644.80</td>\n",
              "      <td>1622.95</td>\n",
              "      <td>301644.80</td>\n",
              "      <td>8</td>\n",
              "    </tr>\n",
              "    <tr>\n",
              "      <th>492</th>\n",
              "      <td>PhonePe</td>\n",
              "      <td>1492.09</td>\n",
              "      <td>288573.00</td>\n",
              "      <td>1492.09</td>\n",
              "      <td>288572.90</td>\n",
              "      <td>7</td>\n",
              "    </tr>\n",
              "    <tr>\n",
              "      <th>493</th>\n",
              "      <td>PhonePe</td>\n",
              "      <td>1292.71</td>\n",
              "      <td>262565.88</td>\n",
              "      <td>1292.71</td>\n",
              "      <td>262565.88</td>\n",
              "      <td>6</td>\n",
              "    </tr>\n",
              "    <tr>\n",
              "      <th>494</th>\n",
              "      <td>PhonePe</td>\n",
              "      <td>1149.84</td>\n",
              "      <td>234123.57</td>\n",
              "      <td>1149.84</td>\n",
              "      <td>234123.57</td>\n",
              "      <td>5</td>\n",
              "    </tr>\n",
              "    <tr>\n",
              "      <th>495</th>\n",
              "      <td>PhonePe</td>\n",
              "      <td>1189.89</td>\n",
              "      <td>234023.33</td>\n",
              "      <td>1189.89</td>\n",
              "      <td>234023.33</td>\n",
              "      <td>4</td>\n",
              "    </tr>\n",
              "    <tr>\n",
              "      <th>496</th>\n",
              "      <td>PhonePe</td>\n",
              "      <td>1199.51</td>\n",
              "      <td>231412.33</td>\n",
              "      <td>1199.51</td>\n",
              "      <td>231412.33</td>\n",
              "      <td>3</td>\n",
              "    </tr>\n",
              "    <tr>\n",
              "      <th>497</th>\n",
              "      <td>PhonePe</td>\n",
              "      <td>975.53</td>\n",
              "      <td>189517.82</td>\n",
              "      <td>975.53</td>\n",
              "      <td>189517.82</td>\n",
              "      <td>2</td>\n",
              "    </tr>\n",
              "    <tr>\n",
              "      <th>498</th>\n",
              "      <td>PhonePe</td>\n",
              "      <td>968.72</td>\n",
              "      <td>191973.77</td>\n",
              "      <td>968.72</td>\n",
              "      <td>191973.77</td>\n",
              "      <td>1</td>\n",
              "    </tr>\n",
              "  </tbody>\n",
              "</table>\n",
              "</div>\n",
              "      <button class=\"colab-df-convert\" onclick=\"convertToInteractive('df-e09ff3df-5b5d-4099-b2d3-c9fdc3b33b3b')\"\n",
              "              title=\"Convert this dataframe to an interactive table.\"\n",
              "              style=\"display:none;\">\n",
              "        \n",
              "  <svg xmlns=\"http://www.w3.org/2000/svg\" height=\"24px\"viewBox=\"0 0 24 24\"\n",
              "       width=\"24px\">\n",
              "    <path d=\"M0 0h24v24H0V0z\" fill=\"none\"/>\n",
              "    <path d=\"M18.56 5.44l.94 2.06.94-2.06 2.06-.94-2.06-.94-.94-2.06-.94 2.06-2.06.94zm-11 1L8.5 8.5l.94-2.06 2.06-.94-2.06-.94L8.5 2.5l-.94 2.06-2.06.94zm10 10l.94 2.06.94-2.06 2.06-.94-2.06-.94-.94-2.06-.94 2.06-2.06.94z\"/><path d=\"M17.41 7.96l-1.37-1.37c-.4-.4-.92-.59-1.43-.59-.52 0-1.04.2-1.43.59L10.3 9.45l-7.72 7.72c-.78.78-.78 2.05 0 2.83L4 21.41c.39.39.9.59 1.41.59.51 0 1.02-.2 1.41-.59l7.78-7.78 2.81-2.81c.8-.78.8-2.07 0-2.86zM5.41 20L4 18.59l7.72-7.72 1.47 1.35L5.41 20z\"/>\n",
              "  </svg>\n",
              "      </button>\n",
              "      \n",
              "  <style>\n",
              "    .colab-df-container {\n",
              "      display:flex;\n",
              "      flex-wrap:wrap;\n",
              "      gap: 12px;\n",
              "    }\n",
              "\n",
              "    .colab-df-convert {\n",
              "      background-color: #E8F0FE;\n",
              "      border: none;\n",
              "      border-radius: 50%;\n",
              "      cursor: pointer;\n",
              "      display: none;\n",
              "      fill: #1967D2;\n",
              "      height: 32px;\n",
              "      padding: 0 0 0 0;\n",
              "      width: 32px;\n",
              "    }\n",
              "\n",
              "    .colab-df-convert:hover {\n",
              "      background-color: #E2EBFA;\n",
              "      box-shadow: 0px 1px 2px rgba(60, 64, 67, 0.3), 0px 1px 3px 1px rgba(60, 64, 67, 0.15);\n",
              "      fill: #174EA6;\n",
              "    }\n",
              "\n",
              "    [theme=dark] .colab-df-convert {\n",
              "      background-color: #3B4455;\n",
              "      fill: #D2E3FC;\n",
              "    }\n",
              "\n",
              "    [theme=dark] .colab-df-convert:hover {\n",
              "      background-color: #434B5C;\n",
              "      box-shadow: 0px 1px 3px 1px rgba(0, 0, 0, 0.15);\n",
              "      filter: drop-shadow(0px 1px 2px rgba(0, 0, 0, 0.3));\n",
              "      fill: #FFFFFF;\n",
              "    }\n",
              "  </style>\n",
              "\n",
              "      <script>\n",
              "        const buttonEl =\n",
              "          document.querySelector('#df-e09ff3df-5b5d-4099-b2d3-c9fdc3b33b3b button.colab-df-convert');\n",
              "        buttonEl.style.display =\n",
              "          google.colab.kernel.accessAllowed ? 'block' : 'none';\n",
              "\n",
              "        async function convertToInteractive(key) {\n",
              "          const element = document.querySelector('#df-e09ff3df-5b5d-4099-b2d3-c9fdc3b33b3b');\n",
              "          const dataTable =\n",
              "            await google.colab.kernel.invokeFunction('convertToInteractive',\n",
              "                                                     [key], {});\n",
              "          if (!dataTable) return;\n",
              "\n",
              "          const docLinkHtml = 'Like what you see? Visit the ' +\n",
              "            '<a target=\"_blank\" href=https://colab.research.google.com/notebooks/data_table.ipynb>data table notebook</a>'\n",
              "            + ' to learn more about interactive tables.';\n",
              "          element.innerHTML = '';\n",
              "          dataTable['output_type'] = 'display_data';\n",
              "          await google.colab.output.renderOutput(dataTable, element);\n",
              "          const docLink = document.createElement('div');\n",
              "          docLink.innerHTML = docLinkHtml;\n",
              "          element.appendChild(docLink);\n",
              "        }\n",
              "      </script>\n",
              "    </div>\n",
              "  </div>\n",
              "  "
            ]
          },
          "metadata": {},
          "execution_count": 44
        }
      ]
    },
    {
      "cell_type": "code",
      "source": [
        "plt.bar(z[\"UPI Banks\"], (z[\"Value (Cr)\"]), color ='maroon',width = 0.4)"
      ],
      "metadata": {
        "id": "uBLeozQ2Gp33",
        "colab": {
          "base_uri": "https://localhost:8080/",
          "height": 282
        },
        "outputId": "e256db2a-25e1-49d2-8d0d-4f3f21a11570"
      },
      "execution_count": 45,
      "outputs": [
        {
          "output_type": "execute_result",
          "data": {
            "text/plain": [
              "<BarContainer object of 40 artists>"
            ]
          },
          "metadata": {},
          "execution_count": 45
        },
        {
          "output_type": "display_data",
          "data": {
            "text/plain": [
              "<Figure size 432x288 with 1 Axes>"
            ],
            "image/png": "[encoded data removed]"
          },
          "metadata": {
            "needs_background": "light"
          }
        }
      ]
    },
    {
      "cell_type": "code",
      "source": [
        "Banks=df2022.get(\"UPI Banks\")\n",
        "Value=df2022.get(\"Value (Cr)\")"
      ],
      "metadata": {
        "id": "pE-MyTV9a7u2"
      },
      "execution_count": 46,
      "outputs": []
    },
    {
      "cell_type": "code",
      "source": [
        "plt.bar(df2022[\"Month\"], (df2022[\"Value (Cr)\"]), color ='maroon',width = 0.4)"
      ],
      "metadata": {
        "colab": {
          "base_uri": "https://localhost:8080/",
          "height": 282
        },
        "outputId": "84b43c8e-3a43-48c4-a056-906d56516fe6",
        "id": "26L7muzVca1b"
      },
      "execution_count": 47,
      "outputs": [
        {
          "output_type": "execute_result",
          "data": {
            "text/plain": [
              "<BarContainer object of 452 artists>"
            ]
          },
          "metadata": {},
          "execution_count": 47
        },
        {
          "output_type": "display_data",
          "data": {
            "text/plain": [
              "<Figure size 432x288 with 1 Axes>"
            ],
            "image/png": "[encoded data removed]"
          },
          "metadata": {
            "needs_background": "light"
          }
        }
      ]
    },
    {
      "cell_type": "code",
      "source": [
        "df2022"
      ],
      "metadata": {
        "colab": {
          "base_uri": "https://localhost:8080/",
          "height": 423
        },
        "id": "T259DJN3kwxP",
        "outputId": "4559c80d-920f-49b2-c10a-6bb802b8a9cc"
      },
      "execution_count": 48,
      "outputs": [
        {
          "output_type": "execute_result",
          "data": {
            "text/plain": [
              "                   UPI Banks\\n Volume (Mn) By Costumers\\n  \\\n",
              "0    Airtel Payments Bank Apps                       8.53   \n",
              "1    Airtel Payments Bank Apps                        5.8   \n",
              "2    Airtel Payments Bank Apps                       8.33   \n",
              "3    Airtel Payments Bank Apps                       5.29   \n",
              "4    Airtel Payments Bank Apps                        6.1   \n",
              "..                         ...                        ...   \n",
              "447                    YuvaPay                       0.06   \n",
              "448                    YuvaPay                       0.06   \n",
              "449                    YuvaPay                       0.04   \n",
              "450                    YuvaPay                       0.03   \n",
              "451                    YuvaPay                       0.01   \n",
              "\n",
              "    Value (Cr) by Costumers\\n Volume (Mn)\\n Value (Cr)  Month  Year  \n",
              "0                    2,047.45         13.22   4,729.77      1  2022  \n",
              "1                    1,199.46          7.58   2,210.17      2  2022  \n",
              "2                    1,934.41         13.16   4,492.25      3  2022  \n",
              "3                      454.64           5.3      460.9      4  2022  \n",
              "4                      486.55          6.11     486.62      5  2022  \n",
              "..                        ...           ...        ...    ...   ...  \n",
              "447                    105.39          0.06     105.39      3  2022  \n",
              "448                    103.34          0.06     103.34      4  2022  \n",
              "449                     88.95          0.04      88.95      5  2022  \n",
              "450                     58.31          0.03      58.31      6  2022  \n",
              "451                     21.38          0.01      21.38      7  2022  \n",
              "\n",
              "[452 rows x 7 columns]"
            ],
            "text/html": [
              "\n",
              "  <div id=\"df-c2908bc1-fda6-4a00-9e2a-634c200b7637\">\n",
              "    <div class=\"colab-df-container\">\n",
              "      <div>\n",
              "<style scoped>\n",
              "    .dataframe tbody tr th:only-of-type {\n",
              "        vertical-align: middle;\n",
              "    }\n",
              "\n",
              "    .dataframe tbody tr th {\n",
              "        vertical-align: top;\n",
              "    }\n",
              "\n",
              "    .dataframe thead th {\n",
              "        text-align: right;\n",
              "    }\n",
              "</style>\n",
              "<table border=\"1\" class=\"dataframe\">\n",
              "  <thead>\n",
              "    <tr style=\"text-align: right;\">\n",
              "      <th></th>\n",
              "      <th>UPI Banks\\n</th>\n",
              "      <th>Volume (Mn) By Costumers\\n</th>\n",
              "      <th>Value (Cr) by Costumers\\n</th>\n",
              "      <th>Volume (Mn)\\n</th>\n",
              "      <th>Value (Cr)</th>\n",
              "      <th>Month</th>\n",
              "      <th>Year</th>\n",
              "    </tr>\n",
              "  </thead>\n",
              "  <tbody>\n",
              "    <tr>\n",
              "      <th>0</th>\n",
              "      <td>Airtel Payments Bank Apps</td>\n",
              "      <td>8.53</td>\n",
              "      <td>2,047.45</td>\n",
              "      <td>13.22</td>\n",
              "      <td>4,729.77</td>\n",
              "      <td>1</td>\n",
              "      <td>2022</td>\n",
              "    </tr>\n",
              "    <tr>\n",
              "      <th>1</th>\n",
              "      <td>Airtel Payments Bank Apps</td>\n",
              "      <td>5.8</td>\n",
              "      <td>1,199.46</td>\n",
              "      <td>7.58</td>\n",
              "      <td>2,210.17</td>\n",
              "      <td>2</td>\n",
              "      <td>2022</td>\n",
              "    </tr>\n",
              "    <tr>\n",
              "      <th>2</th>\n",
              "      <td>Airtel Payments Bank Apps</td>\n",
              "      <td>8.33</td>\n",
              "      <td>1,934.41</td>\n",
              "      <td>13.16</td>\n",
              "      <td>4,492.25</td>\n",
              "      <td>3</td>\n",
              "      <td>2022</td>\n",
              "    </tr>\n",
              "    <tr>\n",
              "      <th>3</th>\n",
              "      <td>Airtel Payments Bank Apps</td>\n",
              "      <td>5.29</td>\n",
              "      <td>454.64</td>\n",
              "      <td>5.3</td>\n",
              "      <td>460.9</td>\n",
              "      <td>4</td>\n",
              "      <td>2022</td>\n",
              "    </tr>\n",
              "    <tr>\n",
              "      <th>4</th>\n",
              "      <td>Airtel Payments Bank Apps</td>\n",
              "      <td>6.1</td>\n",
              "      <td>486.55</td>\n",
              "      <td>6.11</td>\n",
              "      <td>486.62</td>\n",
              "      <td>5</td>\n",
              "      <td>2022</td>\n",
              "    </tr>\n",
              "    <tr>\n",
              "      <th>...</th>\n",
              "      <td>...</td>\n",
              "      <td>...</td>\n",
              "      <td>...</td>\n",
              "      <td>...</td>\n",
              "      <td>...</td>\n",
              "      <td>...</td>\n",
              "      <td>...</td>\n",
              "    </tr>\n",
              "    <tr>\n",
              "      <th>447</th>\n",
              "      <td>YuvaPay</td>\n",
              "      <td>0.06</td>\n",
              "      <td>105.39</td>\n",
              "      <td>0.06</td>\n",
              "      <td>105.39</td>\n",
              "      <td>3</td>\n",
              "      <td>2022</td>\n",
              "    </tr>\n",
              "    <tr>\n",
              "      <th>448</th>\n",
              "      <td>YuvaPay</td>\n",
              "      <td>0.06</td>\n",
              "      <td>103.34</td>\n",
              "      <td>0.06</td>\n",
              "      <td>103.34</td>\n",
              "      <td>4</td>\n",
              "      <td>2022</td>\n",
              "    </tr>\n",
              "    <tr>\n",
              "      <th>449</th>\n",
              "      <td>YuvaPay</td>\n",
              "      <td>0.04</td>\n",
              "      <td>88.95</td>\n",
              "      <td>0.04</td>\n",
              "      <td>88.95</td>\n",
              "      <td>5</td>\n",
              "      <td>2022</td>\n",
              "    </tr>\n",
              "    <tr>\n",
              "      <th>450</th>\n",
              "      <td>YuvaPay</td>\n",
              "      <td>0.03</td>\n",
              "      <td>58.31</td>\n",
              "      <td>0.03</td>\n",
              "      <td>58.31</td>\n",
              "      <td>6</td>\n",
              "      <td>2022</td>\n",
              "    </tr>\n",
              "    <tr>\n",
              "      <th>451</th>\n",
              "      <td>YuvaPay</td>\n",
              "      <td>0.01</td>\n",
              "      <td>21.38</td>\n",
              "      <td>0.01</td>\n",
              "      <td>21.38</td>\n",
              "      <td>7</td>\n",
              "      <td>2022</td>\n",
              "    </tr>\n",
              "  </tbody>\n",
              "</table>\n",
              "<p>452 rows × 7 columns</p>\n",
              "</div>\n",
              "      <button class=\"colab-df-convert\" onclick=\"convertToInteractive('df-c2908bc1-fda6-4a00-9e2a-634c200b7637')\"\n",
              "              title=\"Convert this dataframe to an interactive table.\"\n",
              "              style=\"display:none;\">\n",
              "        \n",
              "  <svg xmlns=\"http://www.w3.org/2000/svg\" height=\"24px\"viewBox=\"0 0 24 24\"\n",
              "       width=\"24px\">\n",
              "    <path d=\"M0 0h24v24H0V0z\" fill=\"none\"/>\n",
              "    <path d=\"M18.56 5.44l.94 2.06.94-2.06 2.06-.94-2.06-.94-.94-2.06-.94 2.06-2.06.94zm-11 1L8.5 8.5l.94-2.06 2.06-.94-2.06-.94L8.5 2.5l-.94 2.06-2.06.94zm10 10l.94 2.06.94-2.06 2.06-.94-2.06-.94-.94-2.06-.94 2.06-2.06.94z\"/><path d=\"M17.41 7.96l-1.37-1.37c-.4-.4-.92-.59-1.43-.59-.52 0-1.04.2-1.43.59L10.3 9.45l-7.72 7.72c-.78.78-.78 2.05 0 2.83L4 21.41c.39.39.9.59 1.41.59.51 0 1.02-.2 1.41-.59l7.78-7.78 2.81-2.81c.8-.78.8-2.07 0-2.86zM5.41 20L4 18.59l7.72-7.72 1.47 1.35L5.41 20z\"/>\n",
              "  </svg>\n",
              "      </button>\n",
              "      \n",
              "  <style>\n",
              "    .colab-df-container {\n",
              "      display:flex;\n",
              "      flex-wrap:wrap;\n",
              "      gap: 12px;\n",
              "    }\n",
              "\n",
              "    .colab-df-convert {\n",
              "      background-color: #E8F0FE;\n",
              "      border: none;\n",
              "      border-radius: 50%;\n",
              "      cursor: pointer;\n",
              "      display: none;\n",
              "      fill: #1967D2;\n",
              "      height: 32px;\n",
              "      padding: 0 0 0 0;\n",
              "      width: 32px;\n",
              "    }\n",
              "\n",
              "    .colab-df-convert:hover {\n",
              "      background-color: #E2EBFA;\n",
              "      box-shadow: 0px 1px 2px rgba(60, 64, 67, 0.3), 0px 1px 3px 1px rgba(60, 64, 67, 0.15);\n",
              "      fill: #174EA6;\n",
              "    }\n",
              "\n",
              "    [theme=dark] .colab-df-convert {\n",
              "      background-color: #3B4455;\n",
              "      fill: #D2E3FC;\n",
              "    }\n",
              "\n",
              "    [theme=dark] .colab-df-convert:hover {\n",
              "      background-color: #434B5C;\n",
              "      box-shadow: 0px 1px 3px 1px rgba(0, 0, 0, 0.15);\n",
              "      filter: drop-shadow(0px 1px 2px rgba(0, 0, 0, 0.3));\n",
              "      fill: #FFFFFF;\n",
              "    }\n",
              "  </style>\n",
              "\n",
              "      <script>\n",
              "        const buttonEl =\n",
              "          document.querySelector('#df-c2908bc1-fda6-4a00-9e2a-634c200b7637 button.colab-df-convert');\n",
              "        buttonEl.style.display =\n",
              "          google.colab.kernel.accessAllowed ? 'block' : 'none';\n",
              "\n",
              "        async function convertToInteractive(key) {\n",
              "          const element = document.querySelector('#df-c2908bc1-fda6-4a00-9e2a-634c200b7637');\n",
              "          const dataTable =\n",
              "            await google.colab.kernel.invokeFunction('convertToInteractive',\n",
              "                                                     [key], {});\n",
              "          if (!dataTable) return;\n",
              "\n",
              "          const docLinkHtml = 'Like what you see? Visit the ' +\n",
              "            '<a target=\"_blank\" href=https://colab.research.google.com/notebooks/data_table.ipynb>data table notebook</a>'\n",
              "            + ' to learn more about interactive tables.';\n",
              "          element.innerHTML = '';\n",
              "          dataTable['output_type'] = 'display_data';\n",
              "          await google.colab.output.renderOutput(dataTable, element);\n",
              "          const docLink = document.createElement('div');\n",
              "          docLink.innerHTML = docLinkHtml;\n",
              "          element.appendChild(docLink);\n",
              "        }\n",
              "      </script>\n",
              "    </div>\n",
              "  </div>\n",
              "  "
            ]
          },
          "metadata": {},
          "execution_count": 48
        }
      ]
    }
  ]
}